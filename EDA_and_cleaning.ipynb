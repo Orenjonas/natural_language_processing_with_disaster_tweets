{
 "cells": [
  {
   "cell_type": "markdown",
   "metadata": {},
   "source": [
    "# Introduction\n",
    "This notebook implements cleaning and data exploration of the twitter data for the \n",
    "[Kaggle competition](https://www.kaggle.com/c/nlp-getting-started) on predicting which tweets refer to actual disasters.\n",
    "\n",
    "It is an exploratory work in progress, containing some unfinished tasks and some thoughts.\n",
    "\n",
    "## Layout\n",
    "The notebook covers\n",
    "- Basic inspection of the data\n",
    "- Sentiment analysis using [nltk](https://www.nltk.org/).\n",
    "- Implementing word vectorization using the GloVe embeddings pre-trained on twitter data.\n",
    "- Text cleaning\n",
    "  - A general text cleanin method for analysis\n",
    "  - Text cleaning specific for the GloVe embeddings\n",
    " \n",
    "## Thoughts\n",
    "- Separate model for each keyword in the data?"
   ]
  },
  {
   "cell_type": "markdown",
   "metadata": {},
   "source": [
    "# Imports"
   ]
  },
  {
   "cell_type": "code",
   "execution_count": 3,
   "metadata": {
    "tags": []
   },
   "outputs": [],
   "source": [
    "import numpy as np\n",
    "import pandas as pd\n",
    "\n",
    "# Plotting\n",
    "import matplotlib.pyplot as plt\n",
    "import seaborn as sns\n",
    "plt.style.use('ggplot')\n",
    "\n",
    "# Data processing\n",
    "from nltk.corpus import stopwords\n",
    "\n",
    "# Other\n",
    "from tqdm import tqdm  # Progress bar\n",
    "from IPython.display import display, Markdown  # For printing markdown formatted output"
   ]
  },
  {
   "cell_type": "markdown",
   "metadata": {
    "tags": []
   },
   "source": [
    "# Saving objects\n",
    "We create some reuseable code for saving objects for later use, so we don't have to re-run time consuming code."
   ]
  },
  {
   "cell_type": "code",
   "execution_count": 3,
   "metadata": {},
   "outputs": [],
   "source": [
    "import pickle\n",
    "def save_obj(obj, name ):\n",
    "    with open('obj/'+ name + '.pkl', 'wb') as f:\n",
    "        pickle.dump(obj, f, pickle.HIGHEST_PROTOCOL)\n",
    "\n",
    "def load_obj(name ):\n",
    "    with open('obj/' + name + '.pkl', 'rb') as f:\n",
    "        return pickle.load(f)"
   ]
  },
  {
   "cell_type": "markdown",
   "metadata": {},
   "source": [
    "# Read data "
   ]
  },
  {
   "cell_type": "code",
   "execution_count": 4,
   "metadata": {
    "tags": []
   },
   "outputs": [],
   "source": [
    "tweet = pd.read_csv('./input/nlp-getting-started/train.csv')\n",
    "test  = pd.read_csv('./input/nlp-getting-started/test.csv')"
   ]
  },
  {
   "cell_type": "markdown",
   "metadata": {},
   "source": [
    "# Inspect data"
   ]
  },
  {
   "cell_type": "markdown",
   "metadata": {},
   "source": [
    "### Size of the data"
   ]
  },
  {
   "cell_type": "code",
   "execution_count": 5,
   "metadata": {},
   "outputs": [
    {
     "name": "stdout",
     "output_type": "stream",
     "text": [
      "(7613, 5)\n",
      "(3263, 4)\n"
     ]
    }
   ],
   "source": [
    "print(tweet.shape)\n",
    "print(test.shape)"
   ]
  },
  {
   "cell_type": "markdown",
   "metadata": {},
   "source": [
    "The training data contains 7613 observations, while the test data contains 3263 observations."
   ]
  },
  {
   "cell_type": "code",
   "execution_count": 6,
   "metadata": {},
   "outputs": [
    {
     "data": {
      "text/html": [
       "<div>\n",
       "<style scoped>\n",
       "    .dataframe tbody tr th:only-of-type {\n",
       "        vertical-align: middle;\n",
       "    }\n",
       "\n",
       "    .dataframe tbody tr th {\n",
       "        vertical-align: top;\n",
       "    }\n",
       "\n",
       "    .dataframe thead th {\n",
       "        text-align: right;\n",
       "    }\n",
       "</style>\n",
       "<table border=\"1\" class=\"dataframe\">\n",
       "  <thead>\n",
       "    <tr style=\"text-align: right;\">\n",
       "      <th></th>\n",
       "      <th>id</th>\n",
       "      <th>keyword</th>\n",
       "      <th>location</th>\n",
       "      <th>text</th>\n",
       "      <th>target</th>\n",
       "    </tr>\n",
       "  </thead>\n",
       "  <tbody>\n",
       "    <tr>\n",
       "      <th>200</th>\n",
       "      <td>281</td>\n",
       "      <td>ambulance</td>\n",
       "      <td>VISIT MY YOUTUBE CHANNEL.</td>\n",
       "      <td>HAPPENING NOW - HATZOLAH EMS AMBULANCE RESPOND...</td>\n",
       "      <td>0</td>\n",
       "    </tr>\n",
       "    <tr>\n",
       "      <th>201</th>\n",
       "      <td>283</td>\n",
       "      <td>ambulance</td>\n",
       "      <td>Lexington</td>\n",
       "      <td>http://t.co/FueRk0gWui Twelve feared killed in...</td>\n",
       "      <td>1</td>\n",
       "    </tr>\n",
       "    <tr>\n",
       "      <th>202</th>\n",
       "      <td>285</td>\n",
       "      <td>ambulance</td>\n",
       "      <td>NaN</td>\n",
       "      <td>http://t.co/X5YEUYLT1X Twelve feared killed in...</td>\n",
       "      <td>1</td>\n",
       "    </tr>\n",
       "  </tbody>\n",
       "</table>\n",
       "</div>"
      ],
      "text/plain": [
       "      id    keyword                   location  \\\n",
       "200  281  ambulance  VISIT MY YOUTUBE CHANNEL.   \n",
       "201  283  ambulance                  Lexington   \n",
       "202  285  ambulance                        NaN   \n",
       "\n",
       "                                                  text  target  \n",
       "200  HAPPENING NOW - HATZOLAH EMS AMBULANCE RESPOND...       0  \n",
       "201  http://t.co/FueRk0gWui Twelve feared killed in...       1  \n",
       "202  http://t.co/X5YEUYLT1X Twelve feared killed in...       1  "
      ]
     },
     "execution_count": 6,
     "metadata": {},
     "output_type": "execute_result"
    }
   ],
   "source": [
    "tweet.iloc[200:203]"
   ]
  },
  {
   "cell_type": "markdown",
   "metadata": {},
   "source": [
    "The training data rows contain a `keyword`, a `location` (sometimes not present), `text` containg a tweet and a `target` coding 1 for disaster and 0 for non-disaster.\n",
    "\n",
    "At first glance location does not seem trustworthy."
   ]
  },
  {
   "cell_type": "markdown",
   "metadata": {},
   "source": [
    "By inspecting a few tweets we see that we need to clean the text before we can analyze it."
   ]
  },
  {
   "cell_type": "code",
   "execution_count": 7,
   "metadata": {
    "tags": []
   },
   "outputs": [
    {
     "data": {
      "text/markdown": [
       "Target: 0 -- https://t.co/WKv8VqVkT6 #ArtisteOfTheWeekFact say #Conversations by #coast2coastdjs agree @Crystal_Blaz 's #Jiwonle is a #HipHop #ClubBanger"
      ],
      "text/plain": [
       "<IPython.core.display.Markdown object>"
      ]
     },
     "metadata": {},
     "output_type": "display_data"
    },
    {
     "data": {
      "text/markdown": [
       "Target: 1 -- RSS: Russia begins mass destruction of illegally imported food   http://t.co/r6JDj9kIGm"
      ],
      "text/plain": [
       "<IPython.core.display.Markdown object>"
      ]
     },
     "metadata": {},
     "output_type": "display_data"
    },
    {
     "data": {
      "text/markdown": [
       "Target: 1 -- Emergency Flow  http://t.co/lH9mrYpDrJ mp3 http://t.co/PqhuthSS3i rar http://t.co/0iW6dRf5X9"
      ],
      "text/plain": [
       "<IPython.core.display.Markdown object>"
      ]
     },
     "metadata": {},
     "output_type": "display_data"
    },
    {
     "data": {
      "text/markdown": [
       "Target: 1 -- 8/6/2015@2:09 PM: TRAFFIC ACCIDENT NO INJURY at 2781 WILLIS FOREMAN RD http://t.co/VCkIT6EDEv"
      ],
      "text/plain": [
       "<IPython.core.display.Markdown object>"
      ]
     },
     "metadata": {},
     "output_type": "display_data"
    },
    {
     "data": {
      "text/markdown": [
       "Target: 0 -- Absurdly Ridiculous MenÛªs #Fashion To Demolish You #Manhood. http://t.co/vTP8i8QLEn"
      ],
      "text/plain": [
       "<IPython.core.display.Markdown object>"
      ]
     },
     "metadata": {},
     "output_type": "display_data"
    },
    {
     "data": {
      "text/markdown": [
       "Target: 0 -- i miss my longer hair..but it was so dead anyways it wasn't even hair"
      ],
      "text/plain": [
       "<IPython.core.display.Markdown object>"
      ]
     },
     "metadata": {},
     "output_type": "display_data"
    },
    {
     "data": {
      "text/markdown": [
       "Target: 0 -- @Babybackreeve FATALITY!!!!!!!!!!"
      ],
      "text/plain": [
       "<IPython.core.display.Markdown object>"
      ]
     },
     "metadata": {},
     "output_type": "display_data"
    },
    {
     "data": {
      "text/markdown": [
       "Target: 1 -- Demolition Means Progress: Flint Michigan and the Fate of the American Metropolis Highsmith https://t.co/ZvoBMDxHGP"
      ],
      "text/plain": [
       "<IPython.core.display.Markdown object>"
      ]
     },
     "metadata": {},
     "output_type": "display_data"
    },
    {
     "data": {
      "text/markdown": [
       "Target: 1 -- How do you derail a train at... Smithsonian?"
      ],
      "text/plain": [
       "<IPython.core.display.Markdown object>"
      ]
     },
     "metadata": {},
     "output_type": "display_data"
    },
    {
     "data": {
      "text/markdown": [
       "Target: 0 -- @paddytomlinson1 ARMAGEDDON"
      ],
      "text/plain": [
       "<IPython.core.display.Markdown object>"
      ]
     },
     "metadata": {},
     "output_type": "display_data"
    }
   ],
   "source": [
    "for i in [677, 2643, 3134, 92, 2290, 2062, 3681, 2343, 2384, 323]:\n",
    "    # Print using markdown for better formatting\n",
    "    tg = tweet.iloc[i][\"target\"]\n",
    "    tw = tweet.iloc[i][\"text\"]\n",
    "    display(Markdown(f\"Target: {tg} -- {tw}\"))"
   ]
  },
  {
   "cell_type": "markdown",
   "metadata": {},
   "source": [
    "We see that\n",
    "- There are many unusual symbols, such as in \"MenÛªs\", and hashtags (#)\n",
    "- We need to remove urls\n",
    "- Many tweets have date tags, such as \"8/6/2015@2:09 PM:\""
   ]
  },
  {
   "cell_type": "markdown",
   "metadata": {},
   "source": [
    "## Keywords\n",
    "The keyword column contain an important keyword present in the tweet, such as \"sinking\", as presented below."
   ]
  },
  {
   "cell_type": "code",
   "execution_count": 8,
   "metadata": {},
   "outputs": [
    {
     "data": {
      "text/html": [
       "<div>\n",
       "<style scoped>\n",
       "    .dataframe tbody tr th:only-of-type {\n",
       "        vertical-align: middle;\n",
       "    }\n",
       "\n",
       "    .dataframe tbody tr th {\n",
       "        vertical-align: top;\n",
       "    }\n",
       "\n",
       "    .dataframe thead th {\n",
       "        text-align: right;\n",
       "    }\n",
       "</style>\n",
       "<table border=\"1\" class=\"dataframe\">\n",
       "  <thead>\n",
       "    <tr style=\"text-align: right;\">\n",
       "      <th></th>\n",
       "      <th>text</th>\n",
       "      <th>target</th>\n",
       "    </tr>\n",
       "  </thead>\n",
       "  <tbody>\n",
       "    <tr>\n",
       "      <th>6085</th>\n",
       "      <td>Do you feel like you are sinking in low self-i...</td>\n",
       "      <td>0</td>\n",
       "    </tr>\n",
       "    <tr>\n",
       "      <th>6086</th>\n",
       "      <td>After a Few Years Afloat Pension Plans Start S...</td>\n",
       "      <td>1</td>\n",
       "    </tr>\n",
       "    <tr>\n",
       "      <th>6087</th>\n",
       "      <td>Do you feel like you are sinking in unhappines...</td>\n",
       "      <td>0</td>\n",
       "    </tr>\n",
       "    <tr>\n",
       "      <th>6088</th>\n",
       "      <td>With a sinking music video tv career Brooke Ho...</td>\n",
       "      <td>0</td>\n",
       "    </tr>\n",
       "    <tr>\n",
       "      <th>6089</th>\n",
       "      <td>@supernovalester I feel so bad for them. I can...</td>\n",
       "      <td>0</td>\n",
       "    </tr>\n",
       "    <tr>\n",
       "      <th>6090</th>\n",
       "      <td>#nowplaying Sinking Fast - Now or Never on Nor...</td>\n",
       "      <td>0</td>\n",
       "    </tr>\n",
       "    <tr>\n",
       "      <th>6091</th>\n",
       "      <td>that horrible sinking feeling when youÛªve be...</td>\n",
       "      <td>1</td>\n",
       "    </tr>\n",
       "    <tr>\n",
       "      <th>6092</th>\n",
       "      <td>Nigga car sinking but he snapping it up for fo...</td>\n",
       "      <td>0</td>\n",
       "    </tr>\n",
       "    <tr>\n",
       "      <th>6093</th>\n",
       "      <td>@abandonedpics You should delete this one it's...</td>\n",
       "      <td>0</td>\n",
       "    </tr>\n",
       "    <tr>\n",
       "      <th>6094</th>\n",
       "      <td>that horrible sinking feeling when youÛªve be...</td>\n",
       "      <td>0</td>\n",
       "    </tr>\n",
       "  </tbody>\n",
       "</table>\n",
       "</div>"
      ],
      "text/plain": [
       "                                                   text  target\n",
       "6085  Do you feel like you are sinking in low self-i...       0\n",
       "6086  After a Few Years Afloat Pension Plans Start S...       1\n",
       "6087  Do you feel like you are sinking in unhappines...       0\n",
       "6088  With a sinking music video tv career Brooke Ho...       0\n",
       "6089  @supernovalester I feel so bad for them. I can...       0\n",
       "6090  #nowplaying Sinking Fast - Now or Never on Nor...       0\n",
       "6091  that horrible sinking feeling when youÛªve be...       1\n",
       "6092  Nigga car sinking but he snapping it up for fo...       0\n",
       "6093  @abandonedpics You should delete this one it's...       0\n",
       "6094  that horrible sinking feeling when youÛªve be...       0"
      ]
     },
     "execution_count": 8,
     "metadata": {},
     "output_type": "execute_result"
    }
   ],
   "source": [
    "tweet[tweet['keyword']=='sinking'][[\"text\", \"target\"]].head(10)"
   ]
  },
  {
   "cell_type": "markdown",
   "metadata": {},
   "source": [
    "## Drop duplicates\n",
    "110 tweets in the dataset have/are duplicates. Some have contradictory labelling. We drop the duplicates, as there are few compared to the data size."
   ]
  },
  {
   "cell_type": "code",
   "execution_count": 19,
   "metadata": {
    "tags": []
   },
   "outputs": [
    {
     "data": {
      "text/plain": [
       "110"
      ]
     },
     "execution_count": 19,
     "metadata": {},
     "output_type": "execute_result"
    }
   ],
   "source": [
    "np.sum(tweet.duplicated(subset=['text']))"
   ]
  },
  {
   "cell_type": "code",
   "execution_count": 29,
   "metadata": {
    "tags": []
   },
   "outputs": [],
   "source": [
    "tweet.drop_duplicates(subset=['text'], inplace=True)"
   ]
  },
  {
   "cell_type": "markdown",
   "metadata": {},
   "source": [
    "## Check dataset balance\n",
    "The dataset appears to be fairly balanced"
   ]
  },
  {
   "cell_type": "code",
   "execution_count": 11,
   "metadata": {
    "tags": []
   },
   "outputs": [
    {
     "data": {
      "image/png": "[encoded data removed]",
      "text/plain": [
       "<Figure size 432x288 with 1 Axes>"
      ]
     },
     "metadata": {},
     "output_type": "display_data"
    }
   ],
   "source": [
    "value_dist = tweet.target.value_counts()\n",
    "\n",
    "sns.barplot(x=value_dist.index, y=value_dist)\n",
    "plt.show()"
   ]
  },
  {
   "cell_type": "markdown",
   "metadata": {},
   "source": [
    "# Sentiment analysis\n",
    "We will try adding a sentiment analysis score to our tweets. `SentimentIntensityAnalyzer` from `nltk` gives pieces of text a sentiment score between -1 and 1, where 1 is very positive and -1 is very negative"
   ]
  },
  {
   "cell_type": "markdown",
   "metadata": {},
   "source": [
    "TODO: Add estimated sentiment to model input "
   ]
  },
  {
   "cell_type": "code",
   "execution_count": 13,
   "metadata": {},
   "outputs": [],
   "source": [
    "from nltk.sentiment.vader import SentimentIntensityAnalyzer\n",
    "\n",
    "sia = SentimentIntensityAnalyzer()\n",
    "\n",
    "sia_table = []\n",
    "for tweet_i in tweet['text']:\n",
    "    sia_table.append(sia.polarity_scores(tweet_i)['compound'])"
   ]
  },
  {
   "cell_type": "code",
   "execution_count": 14,
   "metadata": {},
   "outputs": [],
   "source": [
    "tweet['sentiment'] = sia_table"
   ]
  },
  {
   "cell_type": "markdown",
   "metadata": {
    "tags": []
   },
   "source": [
    "We inspect ten random tweets"
   ]
  },
  {
   "cell_type": "code",
   "execution_count": 15,
   "metadata": {},
   "outputs": [
    {
     "name": "stdout",
     "output_type": "stream",
     "text": [
      "Target | Sentiment | Tweet\n",
      "     1 |    0.0000 | http://t.co/iXiYBAp8Qa The Latest: More homes razed by Northern California wildfire - Lynchburg News and Advance http://t.co/zEpzQYDby4\n",
      "     0 |    0.6636 | Reading for work has collided with reading for pleasure. Huzzah. Don't miss @molly_the_tanz's Vermilion! http://t.co/83bMprwH7W\n",
      "     0 |    0.0000 | think i'll become a businessman a demolish a community centre and build condos on it but foiled by a troupe of multi-racial breakdancers .\n",
      "     1 |   -0.8481 | 70 Years After Atomic Bombs Japan Still Struggles With War Past: The anniversary of the devastation wrought b... http://t.co/LtVVPfLSg8\n",
      "     0 |    0.0000 | 'Snowstorm' 36'x36' oil on canvas (2009) http://t.co/RCZAlRU05o #art #painting\n",
      "     0 |    0.0000 | We would become the mirrors that reflected each other's most private wounds and desires.\n",
      "     1 |   -0.6369 | #Colorado #News Motorcyclist bicyclist injured in Denver collision on Broadway: At least two people were tak... http://t.co/2iAFPmqJeP\n",
      "     1 |   -0.6249 | Families to sue over Legionnaires: More than 40 families affected by the fatal outbreak of Legionnaires' disea... http://t.co/NQ77EfMF88\n",
      "     1 |    0.0000 | VIDEO: 'We're picking up bodies from water': Rescuers are searching for hundreds of migrants in the Mediterran... http://t.co/ZFWMjh6SLh\n",
      "     0 |   -0.6808 | @punkblunts @sincerelyevelnn fall off a cliff into hell idc\n"
     ]
    }
   ],
   "source": [
    "print(f\"Target | Sentiment | Tweet\")\n",
    "for i, row in tweet.iloc[[5585, 1708, 2297, 2759, 6229, 7439, 1766, 5314, 5725, 1582]].iterrows():\n",
    "    print(f\"{row.target:6} | {row.sentiment:9.4f} | {row.text}\")"
   ]
  },
  {
   "cell_type": "code",
   "execution_count": 16,
   "metadata": {},
   "outputs": [
    {
     "data": {
      "image/png": "[encoded data removed]",
      "text/plain": [
       "<Figure size 432x288 with 1 Axes>"
      ]
     },
     "metadata": {},
     "output_type": "display_data"
    }
   ],
   "source": [
    "sns.boxplot(x=tweet.target, y=tweet.sentiment)\n",
    "plt.show()"
   ]
  },
  {
   "cell_type": "markdown",
   "metadata": {},
   "source": [
    "Sentiment of disaster tweets seem to fall slightly lower than non-disaster tweets on average. It might have stronger predictive quality together with high leverl features of the tweets discovered by the neural network. "
   ]
  },
  {
   "cell_type": "markdown",
   "metadata": {},
   "source": [
    "Sentiment does not seem to separate the two classes, but might be predictive in connection with higher level features detected by the neural network.\n",
    "- TODO: How to implement sentiment in the analysis?"
   ]
  },
  {
   "cell_type": "markdown",
   "metadata": {},
   "source": [
    "# Ngram analysis\n",
    "- Uninformative\n",
    "- From https://www.kaggle.com/shahules/basic-eda-cleaning-and-glove#Exploratory-Data-Analysis-of-tweets"
   ]
  },
  {
   "cell_type": "code",
   "execution_count": 17,
   "metadata": {},
   "outputs": [],
   "source": [
    "def get_top_tweet_bigrams(corpus, n=None):\n",
    "    from sklearn.feature_extraction.text import CountVectorizer\n",
    "    \n",
    "    vec = CountVectorizer(ngram_range=(2, 2)).fit(corpus)\n",
    "    bag_of_words = vec.transform(corpus)\n",
    "    sum_words = bag_of_words.sum(axis=0) \n",
    "    words_freq = [(word, sum_words[0, idx]) for word, idx in vec.vocabulary_.items()]\n",
    "    words_freq =sorted(words_freq, key = lambda x: x[1], reverse=True)\n",
    "    return words_freq[:n]"
   ]
  },
  {
   "cell_type": "markdown",
   "metadata": {},
   "source": [
    "# Word embedding vectorization\n",
    "We will vectorize words using a library of vectors from a pre trained model.\n",
    "\n",
    "- TODO: Fine tune on current dataset\n",
    "  - see demo.sh in the github repo\n",
    "- Alternative dataset: https://allennlp.org/elmo\n",
    "\n",
    "\n",
    "We will use GloVe for vectorization of words found at https://github.com/stanfordnlp/GloVe,\n",
    "trying the twitter dataset first."
   ]
  },
  {
   "cell_type": "code",
   "execution_count": 18,
   "metadata": {},
   "outputs": [],
   "source": [
    "# import mmap\n",
    "\n",
    "def get_num_lines(file_path: str):\n",
    "    \"\"\"\n",
    "    Get the number of lines in a file. \n",
    "    Used in the tqdm module to get a progress bar for \n",
    "    for-loops when iterating over lines in a file.\n",
    "    \"\"\"\n",
    "    fp = open(file_path, \"r+\")\n",
    "    buf = mmap.mmap(fp.fileno(), 0)\n",
    "    lines = 0\n",
    "    while buf.readline():\n",
    "        lines += 1\n",
    "    return lines"
   ]
  },
  {
   "cell_type": "code",
   "execution_count": 19,
   "metadata": {},
   "outputs": [],
   "source": [
    "# Run this once to save an embedding dictionary to a file in and obj/ folder in current dir (`obj` dir must be created beforehand)\n",
    "\n",
    "embedding_dict={}\n",
    "file_path = './input/glove.twitter.27B.100d.txt'\n",
    "with open(file_path,'r') as f:\n",
    "    for line in tqdm(f, total = get_num_lines(file_path)):\n",
    "        values=line.split()\n",
    "        word=values[0]\n",
    "        vectors=np.asarray(values[1:],'float32')\n",
    "        embedding_dict[word]=vectors\n",
    "f.close()\n",
    "\n",
    "save_obj(embedding_dict, \"embedding_dict\")"
   ]
  },
  {
   "cell_type": "code",
   "execution_count": 20,
   "metadata": {},
   "outputs": [],
   "source": [
    "# Load saved embedding dictionary from previous cell\n",
    "embedding_dict = load_obj(\"embedding_dict\")"
   ]
  },
  {
   "cell_type": "markdown",
   "metadata": {},
   "source": [
    "- TODO: Visualize embeddings with PCA?"
   ]
  },
  {
   "cell_type": "markdown",
   "metadata": {},
   "source": [
    "# Clean tweets"
   ]
  },
  {
   "cell_type": "markdown",
   "metadata": {},
   "source": [
    "We will need to preprocess the data based on how words are embedded into the pre-trained embeddings.\n",
    "\n",
    "We will first attempt some boiler-plate text cleaning, courtesy of among others [this notebook](https://www.kaggle.com/shahules/basic-eda-cleaning-and-glove#GloVe-for-Vectorization), and inspect how well it coincides with the embedding."
   ]
  },
  {
   "cell_type": "markdown",
   "metadata": {},
   "source": [
    "## Inital cleaning attempt "
   ]
  },
  {
   "cell_type": "code",
   "execution_count": 21,
   "metadata": {},
   "outputs": [
    {
     "data": {
      "text/plain": [
       "'Mortal Kombat X: All Fatalities On Meat Predator.\\nhttps://t.co/IggFNBIxt5'"
      ]
     },
     "execution_count": 21,
     "metadata": {},
     "output_type": "execute_result"
    }
   ],
   "source": [
    "tweet.text.iloc[3639]"
   ]
  },
  {
   "cell_type": "code",
   "execution_count": 22,
   "metadata": {},
   "outputs": [],
   "source": [
    "def clean_data(df: pd.DataFrame):\n",
    "    import string\n",
    "    import re\n",
    "\n",
    "    punctuation_regex = re.compile(f\"[{re.escape(string.punctuation)}:]\")\n",
    "    emoji_pattern = re.compile(\"[\"\n",
    "                               \"\\U0001F600-\\U0001F64F\"  # emoticons\n",
    "                               \"\\U0001F300-\\U0001F5FF\"  # symbols & pictographs\n",
    "                               \"\\U0001F680-\\U0001F6FF\"  # transport & map symbols\n",
    "                               \"\\U0001F1E0-\\U0001F1FF\"  # flags (iOS)\n",
    "                               \"\\U00002702-\\U000027B0\"  # Symbols\n",
    "                               \"\\U000024C2-\\U0001F251\"\n",
    "                               \"]+\", flags=re.UNICODE)\n",
    "\n",
    "    # Clean training data\n",
    "    df.keyword.str.replace(\"%20\", \" \")  # We replace ascii %20 with space in the keywords, e.g 'body%20bags' -> 'body bags'\n",
    "    df.text = df.text.str.lower()\n",
    "    df.text = df.text.str.replace(r\"https[^\\s|$]*\", \"\", regex=True)  # Change all urls to \"URL\"\n",
    "    df.text = df.text.str.replace(punctuation_regex, \"\", regex=True)\n",
    "    df.text = df.text.str.replace(emoji_pattern, \"\", regex=True)  # Remove emojis and symbols\n",
    "    df.text = df.text.str.replace(r\"\\n\", \" \", regex = True)       # Change \\n to space\n",
    "    df.text = df.text.str.replace(r\"[^a-zA-Z0-9 ]\", \"\", regex=True)  # Remove last non word characters\n",
    "    df.text = df.text.str.replace(r\"<.*?>\", \"\", regex=True)  # Remove html tags (e.g. <div> )\n",
    "\n",
    "    return df"
   ]
  },
  {
   "cell_type": "code",
   "execution_count": 23,
   "metadata": {},
   "outputs": [],
   "source": [
    "cleaned_tweet = clean_data(tweet)"
   ]
  },
  {
   "cell_type": "code",
   "execution_count": 24,
   "metadata": {},
   "outputs": [
    {
     "data": {
      "text/plain": [
       "'mortal kombat x all fatalities on meat predator '"
      ]
     },
     "execution_count": 24,
     "metadata": {},
     "output_type": "execute_result"
    }
   ],
   "source": [
    "cleaned_tweet.text.iloc[3639]"
   ]
  },
  {
   "cell_type": "markdown",
   "metadata": {},
   "source": [
    "### Check embedding coverage\n",
    "\n",
    "We check how many of the words in our training set tweets are covered by the embedding dictionary"
   ]
  },
  {
   "cell_type": "code",
   "execution_count": 25,
   "metadata": {},
   "outputs": [],
   "source": [
    "def word_representation(word_dict: dict , word_list: list):\n",
    "    \"\"\"Return the words from uq_words not contained in word_dict \n",
    "    and the number of words not covered.\"\"\"\n",
    "    n_covered = 0\n",
    "    not_covered = []\n",
    "    for word in word_list:\n",
    "        if word in word_dict:\n",
    "            n_covered += 1\n",
    "        else:\n",
    "            not_covered.append(word)\n",
    "\n",
    "    return n_covered, not_covered"
   ]
  },
  {
   "cell_type": "code",
   "execution_count": 26,
   "metadata": {},
   "outputs": [],
   "source": [
    "def get_unused_words(word_dict: dict , word_list: list):\n",
    "    \"\"\"Returns a list of words from word_dict not contained in word_list\"\"\"\n",
    "    unused_words = word_dict.copy()#.keys())\n",
    "\n",
    "    # Remove words in tweet data from the dict\n",
    "    for word in word_list:\n",
    "        try:\n",
    "            unused_words.pop(word)\n",
    "        except KeyError:\n",
    "            pass\n",
    "\n",
    "    #Convert dict to list\n",
    "    return list(unused_words.keys())"
   ]
  },
  {
   "cell_type": "code",
   "execution_count": 27,
   "metadata": {},
   "outputs": [],
   "source": [
    "uq_words = tweet.text.str.split(expand=True).stack().unique()\n",
    "n_covered, not_covered = word_representation(word_dict = embedding_dict, word_list = uq_words)\n",
    "unused_words = get_unused_words(word_dict = embedding_dict, word_list = uq_words)"
   ]
  },
  {
   "cell_type": "markdown",
   "metadata": {},
   "source": [
    "Checking the coverage of the tweets, we see that only 56% of the words in our data are in the embedding dictionary."
   ]
  },
  {
   "cell_type": "code",
   "execution_count": 28,
   "metadata": {},
   "outputs": [
    {
     "data": {
      "text/plain": [
       "0.5676696863477034"
      ]
     },
     "execution_count": 28,
     "metadata": {},
     "output_type": "execute_result"
    }
   ],
   "source": [
    "n_covered/len(uq_words)"
   ]
  },
  {
   "cell_type": "markdown",
   "metadata": {},
   "source": [
    "While only 1% of the words in the embedding dictionary is used."
   ]
  },
  {
   "cell_type": "code",
   "execution_count": 29,
   "metadata": {},
   "outputs": [
    {
     "data": {
      "text/plain": [
       "0.01044813010309883"
      ]
     },
     "execution_count": 29,
     "metadata": {},
     "output_type": "execute_result"
    }
   ],
   "source": [
    "n_covered/len(embedding_dict)"
   ]
  },
  {
   "cell_type": "markdown",
   "metadata": {},
   "source": [
    "This calls for further inquiry. Checking the words not covered by the embeddings, we see that there are numbers, URL's and  words with repeated number of letters (elongated words) eg. 'goooooooaaaaaal' among other things."
   ]
  },
  {
   "cell_type": "code",
   "execution_count": 30,
   "metadata": {},
   "outputs": [
    {
     "data": {
      "text/plain": [
       "'13000,  rockyfire,  20,  cafire,  18,  19,  80,  goooooooaaaaaal,  bbcmtd,  httptcolhyxeohy6c,  httptcoyao1e0xngw,  africanbaze,  newsnigeria,  httptco2nndbgwyei,  httptcoqqsmshaj3n,  phdsquares,  httptco3imaomknna,  superintende,  httptcowdueaj8q4j,  httptcoroi2nsmejj'"
      ]
     },
     "execution_count": 30,
     "metadata": {},
     "output_type": "execute_result"
    }
   ],
   "source": [
    "\",  \".join(not_covered[0:20])"
   ]
  },
  {
   "cell_type": "markdown",
   "metadata": {},
   "source": [
    "When inspecting some of the unused words in the embedding dictionary we see that many things, such as hashtags, repeated letters in words, allcaps words and smileys are encoded with special placeholders, such as <allcaps>"
   ]
  },
  {
   "cell_type": "code",
   "execution_count": 31,
   "metadata": {},
   "outputs": [
    {
     "data": {
      "text/plain": [
       "'<user>  .  :  ,  <repeat>  <hashtag>  <number>  <url>  !  \"  ?  (  <allcaps>  <elong>  )  <smile>  ！  。  -  、  …  /  \\'s  *  n\\'t  \\'  \\'m  >  ^  ？  <  ・  &  ♥  lo  “  ”  por  _  <sadface>  من  ♡  ´  ،  ~  ;  <heart>  aku  \\'re  <lolface>  una  （  >>  في  ･  le  é  |  [  ）  ]  yg  —  笑  ω  je  yang  ❤  não  ～  ★  `  dia  $  و  الله  pero  ♪  \\'ll  =  nn  ｀  ¿  <neutralface>  لا  +  ada  ☆  ni  \\'ve  itu  على  -_-  ☺  ما  todo  mais  ini  ﾟ  aja'"
      ]
     },
     "execution_count": 31,
     "metadata": {},
     "output_type": "execute_result"
    }
   ],
   "source": [
    "\"  \".join(unused_words[0:100])"
   ]
  },
  {
   "cell_type": "markdown",
   "metadata": {},
   "source": [
    "## Cleaning and pre-processing for the GloVe embedding\n",
    "In their [info page](https://nlp.stanford.edu/projects/glove/) the writers of the GloVe algorithm supply a ruby regex used for text pre-processing for the twitter model.\n",
    "\n",
    "In an [issue thread](https://github.com/stanfordnlp/GloVe/issues/107) discussing text pre-processing for tweets on their Github page user [skondrashov](https://github.co/skondrashov) supplies a useful python conversion of this ruby script, that also illustrates how words are adjusted to fit in a standard dictionary, and tagged for special characters or rewritings, such as being prefixed with a hashtag or elongated."
   ]
  },
  {
   "cell_type": "markdown",
   "metadata": {},
   "source": [
    "### Remove contractions\n",
    "Copied from https://www.analyticsvidhya.com/blog/2020/04/beginners-guide-exploratory-data-analysis-text-data/, with a small tweak for not matching `'s` in words surrounded by single quotation mark, like `'sylvester stallone'`."
   ]
  },
  {
   "cell_type": "code",
   "execution_count": 32,
   "metadata": {
    "collapsed": true,
    "jupyter": {
     "outputs_hidden": true
    },
    "tags": []
   },
   "outputs": [
    {
     "data": {
      "text/plain": [
       "re.compile(r\"(ain't|(?<=[a-zA-Z])'s|aren't|can't|can't've|'cause|could've|couldn't|couldn't've|didn't|doesn't|don't|hadn't|hadn't've|hasn't|haven't|he'd|he'd've|he'll|he'll've|how'd|how'd'y|how'll|i'd|i'd've|i'll|i'll've|i'm|i've|isn't|it'd|it'd've|it'll|it'll've|let's|ma'am|mayn't|might've|mightn't|mightn't've|must've|mustn't|mustn't've|needn't|needn't've|o'clock|oughtn't|oughtn't've|shan't|sha'n't|shan't've|she'd|she'd've|she'll|she'll've|should've|shouldn't|shouldn't've|so've|that'd|that'd've|there'd|there'd've|they'd|they'd've|they'll|they'll've|they're|they've|to've|wasn't|we'd|we'd've|we'll|we'll've|we're|we've|weren't|what'll|what'll've|what're|what've|when've|where'd|where've|who'll|who'll've|who've|why've|will've|won't|won't've|would've|wouldn't|wouldn't've|y'all|y'all'd|y'all'd've|y'all're|y'all've|you'd|you'd've|you'll|you'll've|you're|you've)\",\n",
       "re.UNICODE)"
      ]
     },
     "execution_count": 32,
     "metadata": {},
     "output_type": "execute_result"
    }
   ],
   "source": [
    "import re\n",
    "\n",
    "# Dictionary of English Contractions\n",
    "contractions_dict = { \"ain't\": \"are not\",\"'s\":\" is\",\"aren't\": \"are not\",\n",
    "                     \"can't\": \"cannot\",\"can't've\": \"cannot have\",\n",
    "                     \"'cause\": \"because\",\"could've\": \"could have\",\"couldn't\": \"could not\",\n",
    "                     \"couldn't've\": \"could not have\", \"didn't\": \"did not\",\"doesn't\": \"does not\",\n",
    "                     \"don't\": \"do not\",\"hadn't\": \"had not\",\"hadn't've\": \"had not have\",\n",
    "                     \"hasn't\": \"has not\",\"haven't\": \"have not\",\"he'd\": \"he would\",\n",
    "                     \"he'd've\": \"he would have\",\"he'll\": \"he will\", \"he'll've\": \"he will have\",\n",
    "                     \"how'd\": \"how did\",\"how'd'y\": \"how do you\",\"how'll\": \"how will\",\n",
    "                     \"i'd\": \"i would\", \"i'd've\": \"i would have\",\"i'll\": \"i will\",\n",
    "                     \"i'll've\": \"i will have\",\"i'm\": \"i am\",\"i've\": \"i have\", \"isn't\": \"is not\",\n",
    "                     \"it'd\": \"it would\",\"it'd've\": \"it would have\",\"it'll\": \"it will\",\n",
    "                     \"it'll've\": \"it will have\", \"let's\": \"let us\",\"ma'am\": \"madam\",\n",
    "                     \"mayn't\": \"may not\",\"might've\": \"might have\",\"mightn't\": \"might not\", \n",
    "                     \"mightn't've\": \"might not have\",\"must've\": \"must have\",\"mustn't\": \"must not\",\n",
    "                     \"mustn't've\": \"must not have\", \"needn't\": \"need not\",\n",
    "                     \"needn't've\": \"need not have\",\"o'clock\": \"of the clock\",\"oughtn't\": \"ought not\",\n",
    "                     \"oughtn't've\": \"ought not have\",\"shan't\": \"shall not\",\"sha'n't\": \"shall not\",\n",
    "                     \"shan't've\": \"shall not have\",\"she'd\": \"she would\",\"she'd've\": \"she would have\",\n",
    "                     \"she'll\": \"she will\", \"she'll've\": \"she will have\",\"should've\": \"should have\",\n",
    "                     \"shouldn't\": \"should not\", \"shouldn't've\": \"should not have\",\"so've\": \"so have\",\n",
    "                     \"that'd\": \"that would\",\"that'd've\": \"that would have\", \"there'd\": \"there would\",\n",
    "                     \"there'd've\": \"there would have\", \"they'd\": \"they would\",\n",
    "                     \"they'd've\": \"they would have\",\"they'll\": \"they will\",\n",
    "                     \"they'll've\": \"they will have\", \"they're\": \"they are\",\"they've\": \"they have\",\n",
    "                     \"to've\": \"to have\",\"wasn't\": \"was not\",\"we'd\": \"we would\",\n",
    "                     \"we'd've\": \"we would have\",\"we'll\": \"we will\",\"we'll've\": \"we will have\",\n",
    "                     \"we're\": \"we are\",\"we've\": \"we have\", \"weren't\": \"were not\",\"what'll\": \"what will\",\n",
    "                     \"what'll've\": \"what will have\",\"what're\": \"what are\", \"what've\": \"what have\",\n",
    "                     \"when've\": \"when have\",\"where'd\": \"where did\", \"where've\": \"where have\",\n",
    "                     \"who'll\": \"who will\",\"who'll've\": \"who will have\",\"who've\": \"who have\",\n",
    "                     \"why've\": \"why have\",\"will've\": \"will have\",\"won't\": \"will not\",\n",
    "                     \"won't've\": \"will not have\", \"would've\": \"would have\",\"wouldn't\": \"would not\",\n",
    "                     \"wouldn't've\": \"would not have\",\"y'all\": \"you all\", \"y'all'd\": \"you all would\",\n",
    "                     \"y'all'd've\": \"you all would have\",\"y'all're\": \"you all are\",\n",
    "                     \"y'all've\": \"you all have\", \"you'd\": \"you would\",\"you'd've\": \"you would have\",\n",
    "                     \"you'll\": \"you will\",\"you'll've\": \"you will have\", \"you're\": \"you are\",\n",
    "                     \"you've\": \"you have\"}\n",
    "\n",
    "# Regular expression for finding contractions\n",
    "#    adding positive lookbehind for `'s` in the regex to make sure a letter is preceeding\n",
    "contractions_re=re.compile('(%s)' % '|'.join(contractions_dict.keys()).lower().replace(\"|'s\", \"|(?<=[a-zA-Z])'s\"))"
   ]
  },
  {
   "cell_type": "code",
   "execution_count": 33,
   "metadata": {
    "tags": []
   },
   "outputs": [],
   "source": [
    "tweet= pd.read_csv('./input/nlp-getting-started/train.csv')\n",
    "test=pd.read_csv('./input/nlp-getting-started/test.csv')"
   ]
  },
  {
   "cell_type": "code",
   "execution_count": 34,
   "metadata": {},
   "outputs": [],
   "source": [
    "def expand_contractions(text,contractions_dict=contractions_dict):\n",
    "    def replace(match):\n",
    "        return contractions_dict[match.group(1)]\n",
    "    return contractions_re.sub(replace, text)\n",
    "\n",
    "# Expanding Contractions in the reviews\n",
    "df = tweet.copy()\n",
    "df.loc[:, 'text']=df.loc[:, 'text'].apply(expand_contractions)"
   ]
  },
  {
   "cell_type": "code",
   "execution_count": 35,
   "metadata": {},
   "outputs": [
    {
     "name": "stdout",
     "output_type": "stream",
     "text": [
      "There's an emergency evacuation happening now in the building across the street\n",
      "There is an emergency evacuation happening now in the building across the street\n",
      "What's up man?\n",
      "What is up man?\n",
      "No way...I can't eat that shit\n",
      "No way...I cannot eat that shit\n",
      "@PhDSquares #mufc they've built so much hype around new acquisitions but I doubt they will set the EPL ablaze this season.\n",
      "@PhDSquares #mufc they have built so much hype around new acquisitions but I doubt they will set the EPL ablaze this season.\n",
      "on the outside you're ablaze and alive\n",
      "but you're dead inside\n",
      "on the outside you are ablaze and alive\n",
      "but you are dead inside\n",
      "First night with retainers in. It's quite weird. Better get used to it; I have to wear them every single night for the next year at least.\n",
      "First night with retainers in. It is quite weird. Better get used to it; I have to wear them every single night for the next year at least.\n",
      "@ablaze what time does your talk go until? I don't know if I can make it due to work.\n",
      "@ablaze what time does your talk go until? I do not know if I can make it due to work.\n",
      "'I can't have kids cuz I got in a bicycle accident &amp; split my testicles. it's impossible for me to have kids' MICHAEL YOU ARE THE FATHER\n",
      "'I cannot have kids cuz I got in a bicycle accident &amp; split my testicles. it is impossible for me to have kids' MICHAEL YOU ARE THE FATHER\n",
      "mom: 'we didn't get home as fast as we wished' \n",
      "me: 'why is that?'\n",
      "mom: 'there was an accident and some truck spilt mayonnaise all over ??????\n",
      "mom: 'we did not get home as fast as we wished' \n",
      "me: 'why is that?'\n",
      "mom: 'there was an accident and some truck spilt mayonnaise all over ??????\n",
      "#TruckCrash Overturns On #FortWorth Interstate http://t.co/Rs22LJ4qFp Click here if you've been in a crash&gt;http://t.co/Ld0unIYw4k\n",
      "#TruckCrash Overturns On #FortWorth Interstate http://t.co/Rs22LJ4qFp Click here if you have been in a crash&gt;http://t.co/Ld0unIYw4k\n"
     ]
    }
   ],
   "source": [
    "# Print the ten first edited tweets\n",
    "\n",
    "i = 0\n",
    "j = 0\n",
    "while j < 5:\n",
    "    a = tweet.loc[i,'text']\n",
    "    b = df.loc[i,'text']\n",
    "    if (len(a) != len(b)):\n",
    "        print(a)\n",
    "        print(b)\n",
    "        j += 1\n",
    "    i += 1"
   ]
  },
  {
   "cell_type": "markdown",
   "metadata": {},
   "source": [
    "### Cleaning function for repeated letters"
   ]
  },
  {
   "cell_type": "code",
   "execution_count": 36,
   "metadata": {},
   "outputs": [
    {
     "data": {
      "text/plain": [
       "[('g', 'o', 'oo', ''), ('', 'a', 'aaa', ''), ('', 'l', 'll', '')]"
      ]
     },
     "execution_count": 36,
     "metadata": {},
     "output_type": "execute_result"
    }
   ],
   "source": [
    "# TODO: \n",
    "\n",
    "import re\n",
    "\n",
    "\n",
    "word = \"goooaaaallls\"  # We want to match go[oo]a[aaa]l[ll]s\n",
    "\n",
    "# Get list of matches: [(group1, group2, ...), ...] where match group 3 is the repeated letters\n",
    "m = re.findall(r\"(\\S*?)(\\w)(\\2{1,})(\\S*?)\", word)\n",
    "m"
   ]
  },
  {
   "cell_type": "code",
   "execution_count": 37,
   "metadata": {},
   "outputs": [
    {
     "data": {
      "text/plain": [
       "['oo', 'aaa', 'll']"
      ]
     },
     "execution_count": 37,
     "metadata": {},
     "output_type": "execute_result"
    }
   ],
   "source": [
    "repeated_letters = [match[2] for match in m]\n",
    "repeated_letters"
   ]
  },
  {
   "cell_type": "code",
   "execution_count": 38,
   "metadata": {},
   "outputs": [
    {
     "name": "stdout",
     "output_type": "stream",
     "text": [
      "Cleaned word - Removed letters\n",
      "=============================\n",
      "goals         ('oo', 'aaa', 'll')\n",
      "goallls       ('oo', 'aaa')\n",
      "goaaaals      ('oo', 'll')\n",
      "goooals       ('aaa', 'll')\n"
     ]
    }
   ],
   "source": [
    "from itertools import combinations\n",
    "\n",
    "# Loop over all combinations of repeated letters\n",
    "print(f\"{'Cleaned word':12s} - Removed letters\")\n",
    "print(\"=============================\")\n",
    "for i in range(len(repeated_letters), 0, -1):\n",
    "    for combination in combinations(repeated_letters, r=i+1):\n",
    "        tword = word\n",
    "        for letters in combination:\n",
    "            tword = re.sub(letters, \"\", tword)\n",
    "        print(f\"{tword:14s}{combination}\")"
   ]
  },
  {
   "cell_type": "markdown",
   "metadata": {},
   "source": [
    "### Cleaning function for tweets"
   ]
  },
  {
   "cell_type": "code",
   "execution_count": 39,
   "metadata": {
    "lines_to_next_cell": 2
   },
   "outputs": [],
   "source": [
    "from itertools import combinations\n",
    "\n",
    "def clean_tweets(df):\n",
    "    import re\n",
    "\n",
    "    def sub(pattern, output, string, whole_word=False):\n",
    "        token = output\n",
    "        if whole_word:\n",
    "            pattern = r'(\\s|^)' + pattern + r'(\\s|$)'\n",
    "\n",
    "        if isinstance(output, str):\n",
    "            token = ' ' + output + ' '\n",
    "        else:\n",
    "            token = lambda match: ' ' + output(match) + ' '\n",
    "\n",
    "        return re.sub(pattern, token, string)\n",
    "\n",
    "\n",
    "    def hashtag(token):\n",
    "        \"\"\" Replace hashtag `#` with `<hashtag>` and split following joined words.\"\"\"\n",
    "        token = token.group('tag')\n",
    "        if token != token.upper():\n",
    "            token = ' '.join(re.findall('[a-zA-Z][^A-Z]*', token))\n",
    "\n",
    "        return '<hashtag> ' + token\n",
    "\n",
    "    def punc_repeat(token):\n",
    "        return token.group(0)[0] + \" <repeat>\"\n",
    "\n",
    "    def punc_separate(token):\n",
    "        return token.group()\n",
    "\n",
    "    def number(token):\n",
    "        return token.group() + ' <number>';\n",
    "\n",
    "    def word_end_repeat(token):\n",
    "        return token.group(1) + token.group(2) + ' <elong>'\n",
    "    \n",
    "    def allcaps(token):\n",
    "        return token.group() + ' <allcaps>'\n",
    "\n",
    "    def clean_repeated_letters(tweet: str, embedding_dict: dict):\n",
    "        \"\"\"\n",
    "        Splits a tweet into words, finds repeated letters in the word and\n",
    "        removes combinations of the repeated letters until the word is matched by a key in\n",
    "        embedding_dict\n",
    "        \"\"\"\n",
    "\n",
    "        cleaned_tweet = []\n",
    "\n",
    "        for word_i in tweet.split():\n",
    "            word_found = False\n",
    "            if word_i in embedding_dict:\n",
    "                cleaned_tweet.append(word_i)\n",
    "                continue\n",
    "\n",
    "            matches = re.findall(r\"\"\"(\\S*?)    # 1: Optional preceeding letters\n",
    "                                     (\\w)      # 2: A letter that might be repeated\n",
    "                                     (\\2{1,})  # 3: Repetead instances of the preceeding letter (group 2)\n",
    "                                     (\\S*?)    # 4: Optional trailing letters\"\"\",\n",
    "                                 word_i,\n",
    "                                 flags=re.X)  # Verbose regex, for commenting\n",
    "                                 \n",
    "            repeated_letters = [match[2] for match in matches]\n",
    "                    \n",
    "            # Loop over all combinations of repeated letters\n",
    "            for i in range(len(repeated_letters), 0, -1):  # i decides length of combination\n",
    "                if word_found:\n",
    "                    continue\n",
    "                    \n",
    "                for combination in combinations(repeated_letters, r = i):\n",
    "                    if word_found:\n",
    "                        continue\n",
    "                        \n",
    "                    tword = word_i \n",
    "                    \n",
    "                        \n",
    "                    for letters in combination:\n",
    "                        tword = re.sub(letters, \"\", tword, count=1)\n",
    "                                        \n",
    "                        # Word in the embedding dict?\n",
    "                        if (tword in embedding_dict):\n",
    "                            # Keep the word and stop searching\n",
    "                            word_found = True\n",
    "                            tword = tword + \" <elong>\"\n",
    "                            continue  \n",
    "            if not word_found:\n",
    "                # No match, we simply keep the word\n",
    "                tword = word_i\n",
    "                \n",
    "            cleaned_tweet.append(tword)\n",
    "            \n",
    "        return \" \".join(cleaned_tweet)\n",
    "\n",
    "\n",
    "\n",
    "    eyes        = r\"[8:=;]\"\n",
    "    nose        = r\"['`\\-\\^]?\"\n",
    "    sad_front   = r\"[(\\[/\\\\]+\"\n",
    "    sad_back    = r\"[)\\]/\\\\]+\"\n",
    "    smile_front = r\"[)\\]]+\"\n",
    "    smile_back  = r\"[(\\[]+\"\n",
    "    lol_front   = r\"[DbpP]+\"\n",
    "    lol_back    = r\"[d]+\"\n",
    "    neutral     = r\"[|]+\"\n",
    "    sadface     = eyes + nose + sad_front   + '|' + sad_back   + nose + eyes\n",
    "    smile       = eyes + nose + smile_front + '|' + smile_back + nose + eyes\n",
    "    lolface     = eyes + nose + lol_front   + '|' + lol_back   + nose + eyes\n",
    "    neutralface = eyes + nose + neutral     + '|' + neutral    + nose + eyes\n",
    "    punctuation = r\"\"\"[ '!\"#$%&'()+,/:;=?@_`{|}~\\*\\-\\.\\^\\\\\\[\\]]+\"\"\" ## < and > omitted to avoid messing up tokens\n",
    "\n",
    "    for i in range(df.shape[0]):\n",
    "        df.loc[i,'text'] = sub(r'[\\s]+',                             '  ',            df.loc[i,'text']) # ensure 2 spaces between everything\n",
    "        df.loc[i,'text'] = sub(r'(?:(?:https?|ftp)://|www\\.)[^\\s]+', '<url>',         df.loc[i,'text'], True)\n",
    "        df.loc[i,'text'] = sub(r'@\\w+',                              '<user>',        df.loc[i,'text'], True)\n",
    "        df.loc[i,'text'] = sub(r'#(?P<tag>\\w+)',                     hashtag,         df.loc[i,'text'], True)\n",
    "        df.loc[i,'text'] = sub(sadface,                              '<sadface>',     df.loc[i,'text'], True)\n",
    "        df.loc[i,'text'] = sub(smile,                                '<smile>',       df.loc[i,'text'], True)\n",
    "        df.loc[i,'text'] = sub(lolface,                              '<lolface>',     df.loc[i,'text'], True)\n",
    "        df.loc[i,'text'] = sub(neutralface,                          '<neutralface>', df.loc[i,'text'], True)\n",
    "        df.loc[i,'text'] = sub(r'(?:<3+)+',                          '<heart>',       df.loc[i,'text'], True)\n",
    "        df.loc[i,'text'] = sub(r'\\b[A-Z]+\\b',                         allcaps,       df.loc[i,'text'], True) \n",
    "        # Allcaps tag\n",
    "        df.loc[i,'text'] = df.loc[i,'text'].lower()\n",
    "        df.loc[i,'text'] = expand_contractions(df.loc[i, 'text'])\n",
    "        df.loc[i,'text'] = sub(r'[-+]?[.\\d]*[\\d]+[:,.\\d]*',          number,          df.loc[i,'text'], True)\n",
    "        df.loc[i,'text'] = sub(punctuation,                          punc_separate,   df.loc[i,'text'])\n",
    "        df.loc[i,'text'] = sub(r'([!?.])\\1+',                        punc_repeat,     df.loc[i,'text'])\n",
    "#     df.loc[i,'text'] = sub(r'(\\S*?)(\\w)\\2+\\b',                   word_end_repeat, df.loc[i,'text'])\n",
    "        \n",
    "        df.loc[i,'text'] = clean_repeated_letters(df.loc[i,'text'], embedding_dict)\n",
    "#     tweet = sub(r\"(\\S*?)(\\w)(\\2{1,})(\\S*?)\",          word_repeat,     tweet)\n",
    "#     tweet = sub(r'(\\S*?)(\\w*(\\w)\\2+\\w*)\\2+\\b',                   word_repeat, tweet)\n",
    "    return df"
   ]
  },
  {
   "cell_type": "markdown",
   "metadata": {},
   "source": [
    "#### Test the cleaning function\n",
    "We test the cleaning on some text to see the effect."
   ]
  },
  {
   "cell_type": "code",
   "execution_count": 40,
   "metadata": {
    "lines_to_next_cell": 2
   },
   "outputs": [
    {
     "name": "stdout",
     "output_type": "stream",
     "text": [
      "Original:  I'm hoping they're helping, they've got to\n",
      "Cleaned:   i am hoping they are helping , they have got to\n",
      "Original:  goooooooaaaaaallll, hey its a goall gooal\n",
      "Cleaned:   goal <elong> , hey its a goall gooal\n",
      "Original:  http://foo.com/blah_blah http://foo.com/blah_blah/ http://foo.com/blah_blah_(wikipedia) https://foo_bar.example.com/\n",
      "Cleaned:   <url> <url> <url> <url>\n",
      "Original:  :\\ :-/ =-( =`( )'8 ]^; -.- :/\n",
      "Cleaned:   <sadface> <sadface> <sadface> <sadface> <sadface> <sadface> -.- <sadface>\n",
      "Original:  :) :-] =`) ('8 ;`)\n",
      "Cleaned:   <smile> <smile> <smile> <smile> <smile>\n",
      "Original:  :D :-D =`b d'8 ;`P\n",
      "Cleaned:   <lolface> <lolface> <lolface> <lolface> <lolface>\n",
      "Original:  :| 8|\n",
      "Cleaned:   <neutralface> <neutralface>\n",
      "Original:  <3<3 <3 <3\n",
      "Cleaned:   <heart> <heart> <heart>\n",
      "Original:  #swag #swa00-= #as ## #WOOP #Feeling_Blessed #helloWorld\n",
      "Cleaned:   <hashtag> swag # swa00 -= <hashtag> as ## <hashtag> woop <allcaps> <hashtag> feeling _ blessed <hashtag> hello world\n",
      "Original:  holy crap!! i won!!!!@@!!!\n",
      "Cleaned:   holy crap ! <repeat> i won ! <repeat> @@ ! <repeat>\n",
      "Original:  holy *IUYT$)(crap!! @@#i@%#@ swag.lord **won!!!!@@!!! wahoo....!!!??!??? Im sick lol.\n",
      "Cleaned:   holy * iuyt $)( crap ! <repeat> @@# i @%#@ swag . lord ** won ! <repeat> @@ ! <repeat> wahoo . <repeat> ! <repeat> ? <repeat> ! ? <repeat> im sick lol .\n",
      "Original:  this SENTENCE consisTS OF slAyYyyy slayyyyyy #WEIRD caPITalIZAtionn\n",
      "Cleaned:   this sentence <allcaps> consists of <allcaps> slay <elong> slay <elong> <hashtag> weird <allcaps> capitalization <elong>\n"
     ]
    }
   ],
   "source": [
    "temp = pd.DataFrame({\"text\": [\n",
    "    u\"I'm hoping they're helping, they've got to\",\n",
    "    u'goooooooaaaaaallll, hey its a goall gooal',\n",
    "    u'http://foo.com/blah_blah http://foo.com/blah_blah/ http://foo.com/blah_blah_(wikipedia) https://foo_bar.example.com/',\n",
    "    u':\\\\ :-/ =-( =`( )\\'8 ]^; -.- :/',\n",
    "    u':) :-] =`) (\\'8 ;`)',\n",
    "    u':D :-D =`b d\\'8 ;`P',\n",
    "    u':| 8|',\n",
    "    u'<3<3 <3 <3',\n",
    "    u'#swag #swa00-= #as ## #WOOP #Feeling_Blessed #helloWorld',\n",
    "    u'holy crap!! i won!!!!@@!!!',\n",
    "    u'holy *IUYT$)(crap!! @@#i@%#@ swag.lord **won!!!!@@!!! wahoo....!!!??!??? Im sick lol.',\n",
    "    u'this SENTENCE consisTS OF slAyYyyy slayyyyyy #WEIRD caPITalIZAtionn',\n",
    "    ]})\n",
    "temp_uncleaned = temp.copy()\n",
    "clean_tweets(df = temp)\n",
    "\n",
    "for i in range(temp.shape[0]):\n",
    "#     print(\"====================\")\n",
    "    print(\"Original: \", temp_uncleaned.iloc[i].text)\n",
    "    print(\"Cleaned:  \", temp.iloc[i].text)"
   ]
  },
  {
   "cell_type": "markdown",
   "metadata": {
    "tags": []
   },
   "source": [
    "---\n",
    "### Cleaning and checking embedding coverage"
   ]
  },
  {
   "cell_type": "code",
   "execution_count": 41,
   "metadata": {
    "tags": []
   },
   "outputs": [],
   "source": [
    "tweet= pd.read_csv('./input/nlp-getting-started/train.csv')\n",
    "test=pd.read_csv('./input/nlp-getting-started/test.csv')"
   ]
  },
  {
   "cell_type": "code",
   "execution_count": 45,
   "metadata": {},
   "outputs": [],
   "source": [
    "uq_words = tweet.text.str.split(expand=True).stack().unique()\n",
    "n_covered, not_covered = word_representation(word_dict = embedding_dict, word_list = uq_words)\n",
    "unused_words = get_unused_words(word_dict = embedding_dict, word_list = uq_words)"
   ]
  },
  {
   "cell_type": "markdown",
   "metadata": {},
   "source": [
    " "
   ]
  },
  {
   "cell_type": "markdown",
   "metadata": {},
   "source": [
    "Now 82% of the words in our data are in the embedding dictionary."
   ]
  },
  {
   "cell_type": "code",
   "execution_count": 46,
   "metadata": {},
   "outputs": [
    {
     "data": {
      "text/plain": [
       "0.8229903115998952"
      ]
     },
     "execution_count": 46,
     "metadata": {},
     "output_type": "execute_result"
    }
   ],
   "source": [
    "n_covered/len(uq_words)"
   ]
  },
  {
   "cell_type": "markdown",
   "metadata": {},
   "source": [
    " "
   ]
  },
  {
   "cell_type": "markdown",
   "metadata": {},
   "source": [
    "Still only 1% of the words in the embedding dictionary is used."
   ]
  },
  {
   "cell_type": "code",
   "execution_count": 47,
   "metadata": {},
   "outputs": [
    {
     "data": {
      "text/plain": [
       "0.010533591953180313"
      ]
     },
     "execution_count": 47,
     "metadata": {},
     "output_type": "execute_result"
    }
   ],
   "source": [
    "n_covered/len(embedding_dict)"
   ]
  },
  {
   "cell_type": "markdown",
   "metadata": {},
   "source": [
    " "
   ]
  },
  {
   "cell_type": "markdown",
   "metadata": {},
   "source": [
    "The words not covered by the embedding dictionary seem to be joined words such as `myreligion` many uncommon symbols and words and numbers. Hopefully these do not carry much meaning, and as they are uncommon it will be hard for our model to descipher their meaning."
   ]
  },
  {
   "cell_type": "code",
   "execution_count": 48,
   "metadata": {},
   "outputs": [
    {
     "data": {
      "text/plain": [
       "\"13  000  20  18  19  80  africanbaze  \\x89ûò  \\x89ûó  superintende  ancop  3  lanford  carolinaåêablaze  '@  diyala  r21  voortrekker  \\x89û  gtxrwm  2k13  30  2013  tinderbox  24  nashvilletraffic  8m  101  personalinjury  caraccidentlawyer  tee\\x89û  bigrigradio  77  31  6  1  sleepjunkies  08  06  15  11  03  58  40  ?'  ://  ld0uniyw4k  23  752  540  999  horndale  naayf  chandanee  conf\\x89û  293  3a  4  1600  17th  2015  2  09  2781  suffield  9  langtree  115  150  16  5  your4state  marinading  .@  norwaymfa  arrestpastornganga  .'  320  icemoon  ices\\x89û  xb1  wiedemer  \\x89ã¢  2010  full\\x89ã¢  ;&  wdyouth  ps4  8015  29  07  wednesday\\x89û  t48  mbataweel  freaky\\x89û  airplaneåê  ladins  \\x89ûïairplane\\x89û\\x9d  can\\x89ûªt  g90\""
      ]
     },
     "execution_count": 48,
     "metadata": {},
     "output_type": "execute_result"
    }
   ],
   "source": [
    "# Words  in our data not in the embedding dictionary\n",
    "\"  \".join(not_covered[0:100])"
   ]
  },
  {
   "cell_type": "markdown",
   "metadata": {},
   "source": [
    "---\n",
    "Unused words from the embedding dictionary are mainly symbols and foreign words. Which means we seem to have captured most of the important meaning-bearing words."
   ]
  },
  {
   "cell_type": "code",
   "execution_count": 49,
   "metadata": {},
   "outputs": [
    {
     "data": {
      "text/plain": [
       "'\"  ！  。  、  …  \\'s  n\\'t  \\'m  ？  <  ・  ♥  “  ”  por  من  ♡  ´  ،  <heart>  aku  \\'re  una  （  >>  في  ･  le  é  ）  yg  —  笑  ω  je  yang  ❤  não  ～  ★  dia  و  الله  pero  ♪  \\'ll  nn  ｀  ¿  لا  ada  ☆  ni  \\'ve  على  ☺  ما  todo  mais  ini  ﾟ  aja  ▽  apa  cuando  ✔  ؟  •  quiero  kamu  nada  <<  ta  lagi  █  más  mau  ｡  pas  в  hoy  meu  gak  amor  \\\\  ver  ；  porque  اللهم  gue  uma  vou  bien  ¡  ＾  ／  todos  →  kan  kita'"
      ]
     },
     "execution_count": 49,
     "metadata": {},
     "output_type": "execute_result"
    }
   ],
   "source": [
    "# Unused words in the embedding dictionary\n",
    "\"  \".join(unused_words[0:100])"
   ]
  },
  {
   "cell_type": "code",
   "execution_count": 50,
   "metadata": {},
   "outputs": [
    {
     "data": {
      "text/plain": [
       "Series([], Name: text, dtype: object)"
      ]
     },
     "execution_count": 50,
     "metadata": {},
     "output_type": "execute_result"
    }
   ],
   "source": [
    "tweet.text[tweet.text.str.match(r\".*jonvoyage\")]"
   ]
  },
  {
   "cell_type": "markdown",
   "metadata": {},
   "source": [
    "# Spell correction"
   ]
  },
  {
   "cell_type": "code",
   "execution_count": 51,
   "metadata": {},
   "outputs": [],
   "source": [
    "# !pip install pyspellchecker"
   ]
  },
  {
   "cell_type": "code",
   "execution_count": 52,
   "metadata": {},
   "outputs": [],
   "source": [
    "from spellchecker import SpellChecker"
   ]
  },
  {
   "cell_type": "code",
   "execution_count": 53,
   "metadata": {},
   "outputs": [
    {
     "name": "stdout",
     "output_type": "stream",
     "text": [
      "happenning\n",
      "{'happenning', 'hapening'}\n"
     ]
    }
   ],
   "source": [
    "spell = SpellChecker()\n",
    "\n",
    "misspelled = spell.unknown(['something', 'is', 'hapenning', 'here'])\n",
    "\n",
    "for word in misspelled:\n",
    "    # Get the one `most likely` answer\n",
    "    print(spell.correction(word))\n",
    "\n",
    "    # Get a list of `likely` options\n",
    "    print(spell.candidates(word))"
   ]
  },
  {
   "cell_type": "markdown",
   "metadata": {},
   "source": [
    "Seems to work nicely."
   ]
  },
  {
   "cell_type": "markdown",
   "metadata": {},
   "source": [
    "Implementation copied from https://www.kaggle.com/shahules/basic-eda-cleaning-and-glove"
   ]
  },
  {
   "cell_type": "code",
   "execution_count": 54,
   "metadata": {},
   "outputs": [],
   "source": [
    "from spellchecker import SpellChecker\n",
    "\n",
    "spell = SpellChecker()\n",
    "def correct_spellings(text):\n",
    "    corrected_text = []\n",
    "    misspelled_words = spell.unknown(text.split())\n",
    "    for word in text.split():\n",
    "        if word in misspelled_words:\n",
    "            corrected_text.append(spell.correction(word))\n",
    "        else:\n",
    "            corrected_text.append(word)\n",
    "    return \" \".join(corrected_text)"
   ]
  },
  {
   "cell_type": "markdown",
   "metadata": {},
   "source": [
    "- TODO implement into the data cleaning"
   ]
  },
  {
   "cell_type": "markdown",
   "metadata": {},
   "source": [
    "# TODO\n",
    "- Remove non words\n",
    "- encode urls?\n",
    "- Encode complexity of text: https://pypi.org/project/textstat/\n",
    "- Removal of stop words? (library for specific language)\n",
    "- Remove URL's\n",
    "- Spelling/grammar correction?\n",
    "  - Companies like Google and Microsoft have achieved a decent accuracy level in automated spell correction. One can use algorithms like the Levenshtein Distances, Dictionary Lookup etc. or other modules and packages to fix these errors.\n",
    "  - Number of misspelled words"
   ]
  },
  {
   "cell_type": "markdown",
   "metadata": {},
   "source": [
    "# Remove stopwords\n",
    "We can use NLTK to remove common words.\n",
    "These words contain little information on their own, but they might convey information in the sentence structure."
   ]
  },
  {
   "cell_type": "code",
   "execution_count": 533,
   "metadata": {
    "collapsed": true,
    "jupyter": {
     "outputs_hidden": true
    },
    "tags": []
   },
   "outputs": [
    {
     "ename": "LookupError",
     "evalue": "\n**********************************************************************\n  Resource \u001b[93mstopwords\u001b[0m not found.\n  Please use the NLTK Downloader to obtain the resource:\n\n  \u001b[31m>>> import nltk\n  >>> nltk.download('stopwords')\n  \u001b[0m\n  For more information see: https://www.nltk.org/data.html\n\n  Attempted to load \u001b[93mcorpora/stopwords\u001b[0m\n\n  Searched in:\n    - '/home/jonaso/nltk_data'\n    - '/home/jonaso/anaconda3/nltk_data'\n    - '/home/jonaso/anaconda3/share/nltk_data'\n    - '/home/jonaso/anaconda3/lib/nltk_data'\n    - '/usr/share/nltk_data'\n    - '/usr/local/share/nltk_data'\n    - '/usr/lib/nltk_data'\n    - '/usr/local/lib/nltk_data'\n**********************************************************************\n",
     "output_type": "error",
     "traceback": [
      "\u001b[0;31m---------------------------------------------------------------------------\u001b[0m",
      "\u001b[0;31mLookupError\u001b[0m                               Traceback (most recent call last)",
      "\u001b[0;32m~/anaconda3/lib/python3.8/site-packages/nltk/corpus/util.py\u001b[0m in \u001b[0;36m__load\u001b[0;34m(self)\u001b[0m\n\u001b[1;32m     82\u001b[0m                 \u001b[0;32mtry\u001b[0m\u001b[0;34m:\u001b[0m\u001b[0;34m\u001b[0m\u001b[0;34m\u001b[0m\u001b[0m\n\u001b[0;32m---> 83\u001b[0;31m                     \u001b[0mroot\u001b[0m \u001b[0;34m=\u001b[0m \u001b[0mnltk\u001b[0m\u001b[0;34m.\u001b[0m\u001b[0mdata\u001b[0m\u001b[0;34m.\u001b[0m\u001b[0mfind\u001b[0m\u001b[0;34m(\u001b[0m\u001b[0;34m\"{}/{}\"\u001b[0m\u001b[0;34m.\u001b[0m\u001b[0mformat\u001b[0m\u001b[0;34m(\u001b[0m\u001b[0mself\u001b[0m\u001b[0;34m.\u001b[0m\u001b[0msubdir\u001b[0m\u001b[0;34m,\u001b[0m \u001b[0mzip_name\u001b[0m\u001b[0;34m)\u001b[0m\u001b[0;34m)\u001b[0m\u001b[0;34m\u001b[0m\u001b[0;34m\u001b[0m\u001b[0m\n\u001b[0m\u001b[1;32m     84\u001b[0m                 \u001b[0;32mexcept\u001b[0m \u001b[0mLookupError\u001b[0m\u001b[0;34m:\u001b[0m\u001b[0;34m\u001b[0m\u001b[0;34m\u001b[0m\u001b[0m\n",
      "\u001b[0;32m~/anaconda3/lib/python3.8/site-packages/nltk/data.py\u001b[0m in \u001b[0;36mfind\u001b[0;34m(resource_name, paths)\u001b[0m\n\u001b[1;32m    582\u001b[0m     \u001b[0mresource_not_found\u001b[0m \u001b[0;34m=\u001b[0m \u001b[0;34m\"\\n%s\\n%s\\n%s\\n\"\u001b[0m \u001b[0;34m%\u001b[0m \u001b[0;34m(\u001b[0m\u001b[0msep\u001b[0m\u001b[0;34m,\u001b[0m \u001b[0mmsg\u001b[0m\u001b[0;34m,\u001b[0m \u001b[0msep\u001b[0m\u001b[0;34m)\u001b[0m\u001b[0;34m\u001b[0m\u001b[0;34m\u001b[0m\u001b[0m\n\u001b[0;32m--> 583\u001b[0;31m     \u001b[0;32mraise\u001b[0m \u001b[0mLookupError\u001b[0m\u001b[0;34m(\u001b[0m\u001b[0mresource_not_found\u001b[0m\u001b[0;34m)\u001b[0m\u001b[0;34m\u001b[0m\u001b[0;34m\u001b[0m\u001b[0m\n\u001b[0m\u001b[1;32m    584\u001b[0m \u001b[0;34m\u001b[0m\u001b[0m\n",
      "\u001b[0;31mLookupError\u001b[0m: \n**********************************************************************\n  Resource \u001b[93mstopwords\u001b[0m not found.\n  Please use the NLTK Downloader to obtain the resource:\n\n  \u001b[31m>>> import nltk\n  >>> nltk.download('stopwords')\n  \u001b[0m\n  For more information see: https://www.nltk.org/data.html\n\n  Attempted to load \u001b[93mcorpora/stopwords.zip/stopwords/\u001b[0m\n\n  Searched in:\n    - '/home/jonaso/nltk_data'\n    - '/home/jonaso/anaconda3/nltk_data'\n    - '/home/jonaso/anaconda3/share/nltk_data'\n    - '/home/jonaso/anaconda3/lib/nltk_data'\n    - '/usr/share/nltk_data'\n    - '/usr/local/share/nltk_data'\n    - '/usr/lib/nltk_data'\n    - '/usr/local/lib/nltk_data'\n**********************************************************************\n",
      "\nDuring handling of the above exception, another exception occurred:\n",
      "\u001b[0;31mLookupError\u001b[0m                               Traceback (most recent call last)",
      "\u001b[0;32m/tmp/ipykernel_3181/3054741396.py\u001b[0m in \u001b[0;36m<module>\u001b[0;34m\u001b[0m\n\u001b[1;32m      1\u001b[0m \u001b[0;32mfrom\u001b[0m \u001b[0mnltk\u001b[0m\u001b[0;34m.\u001b[0m\u001b[0mcorpus\u001b[0m \u001b[0;32mimport\u001b[0m \u001b[0mstopwords\u001b[0m\u001b[0;34m\u001b[0m\u001b[0;34m\u001b[0m\u001b[0m\n\u001b[0;32m----> 2\u001b[0;31m \u001b[0mprint\u001b[0m\u001b[0;34m(\u001b[0m\u001b[0mstopwords\u001b[0m\u001b[0;34m.\u001b[0m\u001b[0mwords\u001b[0m\u001b[0;34m(\u001b[0m\u001b[0;34m'english'\u001b[0m\u001b[0;34m)\u001b[0m\u001b[0;34m)\u001b[0m\u001b[0;34m\u001b[0m\u001b[0;34m\u001b[0m\u001b[0m\n\u001b[0m",
      "\u001b[0;32m~/anaconda3/lib/python3.8/site-packages/nltk/corpus/util.py\u001b[0m in \u001b[0;36m__getattr__\u001b[0;34m(self, attr)\u001b[0m\n\u001b[1;32m    118\u001b[0m             \u001b[0;32mraise\u001b[0m \u001b[0mAttributeError\u001b[0m\u001b[0;34m(\u001b[0m\u001b[0;34m\"LazyCorpusLoader object has no attribute '__bases__'\"\u001b[0m\u001b[0;34m)\u001b[0m\u001b[0;34m\u001b[0m\u001b[0;34m\u001b[0m\u001b[0m\n\u001b[1;32m    119\u001b[0m \u001b[0;34m\u001b[0m\u001b[0m\n\u001b[0;32m--> 120\u001b[0;31m         \u001b[0mself\u001b[0m\u001b[0;34m.\u001b[0m\u001b[0m__load\u001b[0m\u001b[0;34m(\u001b[0m\u001b[0;34m)\u001b[0m\u001b[0;34m\u001b[0m\u001b[0;34m\u001b[0m\u001b[0m\n\u001b[0m\u001b[1;32m    121\u001b[0m         \u001b[0;31m# This looks circular, but its not, since __load() changes our\u001b[0m\u001b[0;34m\u001b[0m\u001b[0;34m\u001b[0m\u001b[0;34m\u001b[0m\u001b[0m\n\u001b[1;32m    122\u001b[0m         \u001b[0;31m# __class__ to something new:\u001b[0m\u001b[0;34m\u001b[0m\u001b[0;34m\u001b[0m\u001b[0;34m\u001b[0m\u001b[0m\n",
      "\u001b[0;32m~/anaconda3/lib/python3.8/site-packages/nltk/corpus/util.py\u001b[0m in \u001b[0;36m__load\u001b[0;34m(self)\u001b[0m\n\u001b[1;32m     83\u001b[0m                     \u001b[0mroot\u001b[0m \u001b[0;34m=\u001b[0m \u001b[0mnltk\u001b[0m\u001b[0;34m.\u001b[0m\u001b[0mdata\u001b[0m\u001b[0;34m.\u001b[0m\u001b[0mfind\u001b[0m\u001b[0;34m(\u001b[0m\u001b[0;34m\"{}/{}\"\u001b[0m\u001b[0;34m.\u001b[0m\u001b[0mformat\u001b[0m\u001b[0;34m(\u001b[0m\u001b[0mself\u001b[0m\u001b[0;34m.\u001b[0m\u001b[0msubdir\u001b[0m\u001b[0;34m,\u001b[0m \u001b[0mzip_name\u001b[0m\u001b[0;34m)\u001b[0m\u001b[0;34m)\u001b[0m\u001b[0;34m\u001b[0m\u001b[0;34m\u001b[0m\u001b[0m\n\u001b[1;32m     84\u001b[0m                 \u001b[0;32mexcept\u001b[0m \u001b[0mLookupError\u001b[0m\u001b[0;34m:\u001b[0m\u001b[0;34m\u001b[0m\u001b[0;34m\u001b[0m\u001b[0m\n\u001b[0;32m---> 85\u001b[0;31m                     \u001b[0;32mraise\u001b[0m \u001b[0me\u001b[0m\u001b[0;34m\u001b[0m\u001b[0;34m\u001b[0m\u001b[0m\n\u001b[0m\u001b[1;32m     86\u001b[0m \u001b[0;34m\u001b[0m\u001b[0m\n\u001b[1;32m     87\u001b[0m         \u001b[0;31m# Load the corpus.\u001b[0m\u001b[0;34m\u001b[0m\u001b[0;34m\u001b[0m\u001b[0;34m\u001b[0m\u001b[0m\n",
      "\u001b[0;32m~/anaconda3/lib/python3.8/site-packages/nltk/corpus/util.py\u001b[0m in \u001b[0;36m__load\u001b[0;34m(self)\u001b[0m\n\u001b[1;32m     78\u001b[0m         \u001b[0;32melse\u001b[0m\u001b[0;34m:\u001b[0m\u001b[0;34m\u001b[0m\u001b[0;34m\u001b[0m\u001b[0m\n\u001b[1;32m     79\u001b[0m             \u001b[0;32mtry\u001b[0m\u001b[0;34m:\u001b[0m\u001b[0;34m\u001b[0m\u001b[0;34m\u001b[0m\u001b[0m\n\u001b[0;32m---> 80\u001b[0;31m                 \u001b[0mroot\u001b[0m \u001b[0;34m=\u001b[0m \u001b[0mnltk\u001b[0m\u001b[0;34m.\u001b[0m\u001b[0mdata\u001b[0m\u001b[0;34m.\u001b[0m\u001b[0mfind\u001b[0m\u001b[0;34m(\u001b[0m\u001b[0;34m\"{}/{}\"\u001b[0m\u001b[0;34m.\u001b[0m\u001b[0mformat\u001b[0m\u001b[0;34m(\u001b[0m\u001b[0mself\u001b[0m\u001b[0;34m.\u001b[0m\u001b[0msubdir\u001b[0m\u001b[0;34m,\u001b[0m \u001b[0mself\u001b[0m\u001b[0;34m.\u001b[0m\u001b[0m__name\u001b[0m\u001b[0;34m)\u001b[0m\u001b[0;34m)\u001b[0m\u001b[0;34m\u001b[0m\u001b[0;34m\u001b[0m\u001b[0m\n\u001b[0m\u001b[1;32m     81\u001b[0m             \u001b[0;32mexcept\u001b[0m \u001b[0mLookupError\u001b[0m \u001b[0;32mas\u001b[0m \u001b[0me\u001b[0m\u001b[0;34m:\u001b[0m\u001b[0;34m\u001b[0m\u001b[0;34m\u001b[0m\u001b[0m\n\u001b[1;32m     82\u001b[0m                 \u001b[0;32mtry\u001b[0m\u001b[0;34m:\u001b[0m\u001b[0;34m\u001b[0m\u001b[0;34m\u001b[0m\u001b[0m\n",
      "\u001b[0;32m~/anaconda3/lib/python3.8/site-packages/nltk/data.py\u001b[0m in \u001b[0;36mfind\u001b[0;34m(resource_name, paths)\u001b[0m\n\u001b[1;32m    581\u001b[0m     \u001b[0msep\u001b[0m \u001b[0;34m=\u001b[0m \u001b[0;34m\"*\"\u001b[0m \u001b[0;34m*\u001b[0m \u001b[0;36m70\u001b[0m\u001b[0;34m\u001b[0m\u001b[0;34m\u001b[0m\u001b[0m\n\u001b[1;32m    582\u001b[0m     \u001b[0mresource_not_found\u001b[0m \u001b[0;34m=\u001b[0m \u001b[0;34m\"\\n%s\\n%s\\n%s\\n\"\u001b[0m \u001b[0;34m%\u001b[0m \u001b[0;34m(\u001b[0m\u001b[0msep\u001b[0m\u001b[0;34m,\u001b[0m \u001b[0mmsg\u001b[0m\u001b[0;34m,\u001b[0m \u001b[0msep\u001b[0m\u001b[0;34m)\u001b[0m\u001b[0;34m\u001b[0m\u001b[0;34m\u001b[0m\u001b[0m\n\u001b[0;32m--> 583\u001b[0;31m     \u001b[0;32mraise\u001b[0m \u001b[0mLookupError\u001b[0m\u001b[0;34m(\u001b[0m\u001b[0mresource_not_found\u001b[0m\u001b[0;34m)\u001b[0m\u001b[0;34m\u001b[0m\u001b[0;34m\u001b[0m\u001b[0m\n\u001b[0m\u001b[1;32m    584\u001b[0m \u001b[0;34m\u001b[0m\u001b[0m\n\u001b[1;32m    585\u001b[0m \u001b[0;34m\u001b[0m\u001b[0m\n",
      "\u001b[0;31mLookupError\u001b[0m: \n**********************************************************************\n  Resource \u001b[93mstopwords\u001b[0m not found.\n  Please use the NLTK Downloader to obtain the resource:\n\n  \u001b[31m>>> import nltk\n  >>> nltk.download('stopwords')\n  \u001b[0m\n  For more information see: https://www.nltk.org/data.html\n\n  Attempted to load \u001b[93mcorpora/stopwords\u001b[0m\n\n  Searched in:\n    - '/home/jonaso/nltk_data'\n    - '/home/jonaso/anaconda3/nltk_data'\n    - '/home/jonaso/anaconda3/share/nltk_data'\n    - '/home/jonaso/anaconda3/lib/nltk_data'\n    - '/usr/share/nltk_data'\n    - '/usr/local/share/nltk_data'\n    - '/usr/lib/nltk_data'\n    - '/usr/local/lib/nltk_data'\n**********************************************************************\n"
     ]
    }
   ],
   "source": [
    "from nltk.corpus import stopwords\n",
    "print(stopwords.words('english'))"
   ]
  }
 ],
 "metadata": {
  "jupytext": {
   "encoding": "# -*- coding: utf-8 -*-",
   "formats": "ipynb,py:light"
  },
  "kernelspec": {
   "display_name": "Python 3 (ipykernel)",
   "language": "python",
   "name": "python3"
  },
  "language_info": {
   "codemirror_mode": {
    "name": "ipython",
    "version": 3
   },
   "file_extension": ".py",
   "mimetype": "text/x-python",
   "name": "python",
   "nbconvert_exporter": "python",
   "pygments_lexer": "ipython3",
   "version": "3.8.10"
  }
 },
 "nbformat": 4,
 "nbformat_minor": 4
}
