{
  "nbformat": 4,
  "nbformat_minor": 0,
  "metadata": {
    "colab": {
      "name": "NLP-disaster-tweets-using-torch-RoBERTa.ipynb",
      "provenance": [],
      "collapsed_sections": [],
      "toc_visible": true,
      "authorship_tag": "ABX9TyPZmViSGd1vXBW5g3kWObdo",
      "include_colab_link": true
    },
    "kernelspec": {
      "display_name": "Python 3",
      "name": "python3"
    },
    "language_info": {
      "name": "python"
    },
    "widgets": {
      "application/vnd.jupyter.widget-state+json": {
        "b0c7f8c0ee934df58b8cff7fad42841e": {
          "model_module": "@jupyter-widgets/controls",
          "model_name": "HBoxModel",
          "model_module_version": "1.5.0",
          "state": {
            "_dom_classes": [],
            "_model_module": "@jupyter-widgets/controls",
            "_model_module_version": "1.5.0",
            "_model_name": "HBoxModel",
            "_view_count": null,
            "_view_module": "@jupyter-widgets/controls",
            "_view_module_version": "1.5.0",
            "_view_name": "HBoxView",
            "box_style": "",
            "children": [
              "IPY_MODEL_1e121406b14449538ac6cc5172130e3d",
              "IPY_MODEL_379343f32027439f804a6ff2cc9c68f9",
              "IPY_MODEL_20fe96306c374241a09693935193e8ff"
            ],
            "layout": "IPY_MODEL_fd4c1e704ca2477d91f2987084112a65"
          }
        },
        "1e121406b14449538ac6cc5172130e3d": {
          "model_module": "@jupyter-widgets/controls",
          "model_name": "HTMLModel",
          "model_module_version": "1.5.0",
          "state": {
            "_dom_classes": [],
            "_model_module": "@jupyter-widgets/controls",
            "_model_module_version": "1.5.0",
            "_model_name": "HTMLModel",
            "_view_count": null,
            "_view_module": "@jupyter-widgets/controls",
            "_view_module_version": "1.5.0",
            "_view_name": "HTMLView",
            "description": "",
            "description_tooltip": null,
            "layout": "IPY_MODEL_12a8ca6538894f239e521f1c08c238c4",
            "placeholder": "​",
            "style": "IPY_MODEL_57adce62ab54415889b5b325c9663235",
            "value": "100%"
          }
        },
        "379343f32027439f804a6ff2cc9c68f9": {
          "model_module": "@jupyter-widgets/controls",
          "model_name": "FloatProgressModel",
          "model_module_version": "1.5.0",
          "state": {
            "_dom_classes": [],
            "_model_module": "@jupyter-widgets/controls",
            "_model_module_version": "1.5.0",
            "_model_name": "FloatProgressModel",
            "_view_count": null,
            "_view_module": "@jupyter-widgets/controls",
            "_view_module_version": "1.5.0",
            "_view_name": "ProgressView",
            "bar_style": "success",
            "description": "",
            "description_tooltip": null,
            "layout": "IPY_MODEL_603078eebc364790a352460a64738e0b",
            "max": 8,
            "min": 0,
            "orientation": "horizontal",
            "style": "IPY_MODEL_68205ef36a364bbe9f2a7d0cc58705db",
            "value": 8
          }
        },
        "20fe96306c374241a09693935193e8ff": {
          "model_module": "@jupyter-widgets/controls",
          "model_name": "HTMLModel",
          "model_module_version": "1.5.0",
          "state": {
            "_dom_classes": [],
            "_model_module": "@jupyter-widgets/controls",
            "_model_module_version": "1.5.0",
            "_model_name": "HTMLModel",
            "_view_count": null,
            "_view_module": "@jupyter-widgets/controls",
            "_view_module_version": "1.5.0",
            "_view_name": "HTMLView",
            "description": "",
            "description_tooltip": null,
            "layout": "IPY_MODEL_694841f4b400468b8c7a94fe3654914c",
            "placeholder": "​",
            "style": "IPY_MODEL_acd566e8dbdd476c892187d8fab5bf66",
            "value": " 8/8 [00:00&lt;00:00, 11.01ba/s]"
          }
        },
        "fd4c1e704ca2477d91f2987084112a65": {
          "model_module": "@jupyter-widgets/base",
          "model_name": "LayoutModel",
          "model_module_version": "1.2.0",
          "state": {
            "_model_module": "@jupyter-widgets/base",
            "_model_module_version": "1.2.0",
            "_model_name": "LayoutModel",
            "_view_count": null,
            "_view_module": "@jupyter-widgets/base",
            "_view_module_version": "1.2.0",
            "_view_name": "LayoutView",
            "align_content": null,
            "align_items": null,
            "align_self": null,
            "border": null,
            "bottom": null,
            "display": null,
            "flex": null,
            "flex_flow": null,
            "grid_area": null,
            "grid_auto_columns": null,
            "grid_auto_flow": null,
            "grid_auto_rows": null,
            "grid_column": null,
            "grid_gap": null,
            "grid_row": null,
            "grid_template_areas": null,
            "grid_template_columns": null,
            "grid_template_rows": null,
            "height": null,
            "justify_content": null,
            "justify_items": null,
            "left": null,
            "margin": null,
            "max_height": null,
            "max_width": null,
            "min_height": null,
            "min_width": null,
            "object_fit": null,
            "object_position": null,
            "order": null,
            "overflow": null,
            "overflow_x": null,
            "overflow_y": null,
            "padding": null,
            "right": null,
            "top": null,
            "visibility": null,
            "width": null
          }
        },
        "12a8ca6538894f239e521f1c08c238c4": {
          "model_module": "@jupyter-widgets/base",
          "model_name": "LayoutModel",
          "model_module_version": "1.2.0",
          "state": {
            "_model_module": "@jupyter-widgets/base",
            "_model_module_version": "1.2.0",
            "_model_name": "LayoutModel",
            "_view_count": null,
            "_view_module": "@jupyter-widgets/base",
            "_view_module_version": "1.2.0",
            "_view_name": "LayoutView",
            "align_content": null,
            "align_items": null,
            "align_self": null,
            "border": null,
            "bottom": null,
            "display": null,
            "flex": null,
            "flex_flow": null,
            "grid_area": null,
            "grid_auto_columns": null,
            "grid_auto_flow": null,
            "grid_auto_rows": null,
            "grid_column": null,
            "grid_gap": null,
            "grid_row": null,
            "grid_template_areas": null,
            "grid_template_columns": null,
            "grid_template_rows": null,
            "height": null,
            "justify_content": null,
            "justify_items": null,
            "left": null,
            "margin": null,
            "max_height": null,
            "max_width": null,
            "min_height": null,
            "min_width": null,
            "object_fit": null,
            "object_position": null,
            "order": null,
            "overflow": null,
            "overflow_x": null,
            "overflow_y": null,
            "padding": null,
            "right": null,
            "top": null,
            "visibility": null,
            "width": null
          }
        },
        "57adce62ab54415889b5b325c9663235": {
          "model_module": "@jupyter-widgets/controls",
          "model_name": "DescriptionStyleModel",
          "model_module_version": "1.5.0",
          "state": {
            "_model_module": "@jupyter-widgets/controls",
            "_model_module_version": "1.5.0",
            "_model_name": "DescriptionStyleModel",
            "_view_count": null,
            "_view_module": "@jupyter-widgets/base",
            "_view_module_version": "1.2.0",
            "_view_name": "StyleView",
            "description_width": ""
          }
        },
        "603078eebc364790a352460a64738e0b": {
          "model_module": "@jupyter-widgets/base",
          "model_name": "LayoutModel",
          "model_module_version": "1.2.0",
          "state": {
            "_model_module": "@jupyter-widgets/base",
            "_model_module_version": "1.2.0",
            "_model_name": "LayoutModel",
            "_view_count": null,
            "_view_module": "@jupyter-widgets/base",
            "_view_module_version": "1.2.0",
            "_view_name": "LayoutView",
            "align_content": null,
            "align_items": null,
            "align_self": null,
            "border": null,
            "bottom": null,
            "display": null,
            "flex": null,
            "flex_flow": null,
            "grid_area": null,
            "grid_auto_columns": null,
            "grid_auto_flow": null,
            "grid_auto_rows": null,
            "grid_column": null,
            "grid_gap": null,
            "grid_row": null,
            "grid_template_areas": null,
            "grid_template_columns": null,
            "grid_template_rows": null,
            "height": null,
            "justify_content": null,
            "justify_items": null,
            "left": null,
            "margin": null,
            "max_height": null,
            "max_width": null,
            "min_height": null,
            "min_width": null,
            "object_fit": null,
            "object_position": null,
            "order": null,
            "overflow": null,
            "overflow_x": null,
            "overflow_y": null,
            "padding": null,
            "right": null,
            "top": null,
            "visibility": null,
            "width": null
          }
        },
        "68205ef36a364bbe9f2a7d0cc58705db": {
          "model_module": "@jupyter-widgets/controls",
          "model_name": "ProgressStyleModel",
          "model_module_version": "1.5.0",
          "state": {
            "_model_module": "@jupyter-widgets/controls",
            "_model_module_version": "1.5.0",
            "_model_name": "ProgressStyleModel",
            "_view_count": null,
            "_view_module": "@jupyter-widgets/base",
            "_view_module_version": "1.2.0",
            "_view_name": "StyleView",
            "bar_color": null,
            "description_width": ""
          }
        },
        "694841f4b400468b8c7a94fe3654914c": {
          "model_module": "@jupyter-widgets/base",
          "model_name": "LayoutModel",
          "model_module_version": "1.2.0",
          "state": {
            "_model_module": "@jupyter-widgets/base",
            "_model_module_version": "1.2.0",
            "_model_name": "LayoutModel",
            "_view_count": null,
            "_view_module": "@jupyter-widgets/base",
            "_view_module_version": "1.2.0",
            "_view_name": "LayoutView",
            "align_content": null,
            "align_items": null,
            "align_self": null,
            "border": null,
            "bottom": null,
            "display": null,
            "flex": null,
            "flex_flow": null,
            "grid_area": null,
            "grid_auto_columns": null,
            "grid_auto_flow": null,
            "grid_auto_rows": null,
            "grid_column": null,
            "grid_gap": null,
            "grid_row": null,
            "grid_template_areas": null,
            "grid_template_columns": null,
            "grid_template_rows": null,
            "height": null,
            "justify_content": null,
            "justify_items": null,
            "left": null,
            "margin": null,
            "max_height": null,
            "max_width": null,
            "min_height": null,
            "min_width": null,
            "object_fit": null,
            "object_position": null,
            "order": null,
            "overflow": null,
            "overflow_x": null,
            "overflow_y": null,
            "padding": null,
            "right": null,
            "top": null,
            "visibility": null,
            "width": null
          }
        },
        "acd566e8dbdd476c892187d8fab5bf66": {
          "model_module": "@jupyter-widgets/controls",
          "model_name": "DescriptionStyleModel",
          "model_module_version": "1.5.0",
          "state": {
            "_model_module": "@jupyter-widgets/controls",
            "_model_module_version": "1.5.0",
            "_model_name": "DescriptionStyleModel",
            "_view_count": null,
            "_view_module": "@jupyter-widgets/base",
            "_view_module_version": "1.2.0",
            "_view_name": "StyleView",
            "description_width": ""
          }
        },
        "028081518ed54172baf0365ec89a174a": {
          "model_module": "@jupyter-widgets/controls",
          "model_name": "HBoxModel",
          "model_module_version": "1.5.0",
          "state": {
            "_dom_classes": [],
            "_model_module": "@jupyter-widgets/controls",
            "_model_module_version": "1.5.0",
            "_model_name": "HBoxModel",
            "_view_count": null,
            "_view_module": "@jupyter-widgets/controls",
            "_view_module_version": "1.5.0",
            "_view_name": "HBoxView",
            "box_style": "",
            "children": [
              "IPY_MODEL_9bc3a80caed045d7b3ff81440de3cb71",
              "IPY_MODEL_08532d5c74924e6f94db31369eaa03bb",
              "IPY_MODEL_7be654de280243a687ea5663182645f9"
            ],
            "layout": "IPY_MODEL_299ab3ef268942d288c51c45bdae67ab"
          }
        },
        "9bc3a80caed045d7b3ff81440de3cb71": {
          "model_module": "@jupyter-widgets/controls",
          "model_name": "HTMLModel",
          "model_module_version": "1.5.0",
          "state": {
            "_dom_classes": [],
            "_model_module": "@jupyter-widgets/controls",
            "_model_module_version": "1.5.0",
            "_model_name": "HTMLModel",
            "_view_count": null,
            "_view_module": "@jupyter-widgets/controls",
            "_view_module_version": "1.5.0",
            "_view_name": "HTMLView",
            "description": "",
            "description_tooltip": null,
            "layout": "IPY_MODEL_6dd671f3c1e4432484fa55bc1714566c",
            "placeholder": "​",
            "style": "IPY_MODEL_41e919a6278c4c2d8cffe4c734f53099",
            "value": "Downloading: 100%"
          }
        },
        "08532d5c74924e6f94db31369eaa03bb": {
          "model_module": "@jupyter-widgets/controls",
          "model_name": "FloatProgressModel",
          "model_module_version": "1.5.0",
          "state": {
            "_dom_classes": [],
            "_model_module": "@jupyter-widgets/controls",
            "_model_module_version": "1.5.0",
            "_model_name": "FloatProgressModel",
            "_view_count": null,
            "_view_module": "@jupyter-widgets/controls",
            "_view_module_version": "1.5.0",
            "_view_name": "ProgressView",
            "bar_style": "success",
            "description": "",
            "description_tooltip": null,
            "layout": "IPY_MODEL_07ed2777364d4c71bc330755b47a2851",
            "max": 498845616,
            "min": 0,
            "orientation": "horizontal",
            "style": "IPY_MODEL_162f94fe40ac459ea4a8791a80c3eda5",
            "value": 498845616
          }
        },
        "7be654de280243a687ea5663182645f9": {
          "model_module": "@jupyter-widgets/controls",
          "model_name": "HTMLModel",
          "model_module_version": "1.5.0",
          "state": {
            "_dom_classes": [],
            "_model_module": "@jupyter-widgets/controls",
            "_model_module_version": "1.5.0",
            "_model_name": "HTMLModel",
            "_view_count": null,
            "_view_module": "@jupyter-widgets/controls",
            "_view_module_version": "1.5.0",
            "_view_name": "HTMLView",
            "description": "",
            "description_tooltip": null,
            "layout": "IPY_MODEL_ddcbe79de7294c57837d1ad69033a8f9",
            "placeholder": "​",
            "style": "IPY_MODEL_2f4026632b0b4299a61f5b805d39d2ca",
            "value": " 499M/499M [00:21&lt;00:00, 37.8MB/s]"
          }
        },
        "299ab3ef268942d288c51c45bdae67ab": {
          "model_module": "@jupyter-widgets/base",
          "model_name": "LayoutModel",
          "model_module_version": "1.2.0",
          "state": {
            "_model_module": "@jupyter-widgets/base",
            "_model_module_version": "1.2.0",
            "_model_name": "LayoutModel",
            "_view_count": null,
            "_view_module": "@jupyter-widgets/base",
            "_view_module_version": "1.2.0",
            "_view_name": "LayoutView",
            "align_content": null,
            "align_items": null,
            "align_self": null,
            "border": null,
            "bottom": null,
            "display": null,
            "flex": null,
            "flex_flow": null,
            "grid_area": null,
            "grid_auto_columns": null,
            "grid_auto_flow": null,
            "grid_auto_rows": null,
            "grid_column": null,
            "grid_gap": null,
            "grid_row": null,
            "grid_template_areas": null,
            "grid_template_columns": null,
            "grid_template_rows": null,
            "height": null,
            "justify_content": null,
            "justify_items": null,
            "left": null,
            "margin": null,
            "max_height": null,
            "max_width": null,
            "min_height": null,
            "min_width": null,
            "object_fit": null,
            "object_position": null,
            "order": null,
            "overflow": null,
            "overflow_x": null,
            "overflow_y": null,
            "padding": null,
            "right": null,
            "top": null,
            "visibility": null,
            "width": null
          }
        },
        "6dd671f3c1e4432484fa55bc1714566c": {
          "model_module": "@jupyter-widgets/base",
          "model_name": "LayoutModel",
          "model_module_version": "1.2.0",
          "state": {
            "_model_module": "@jupyter-widgets/base",
            "_model_module_version": "1.2.0",
            "_model_name": "LayoutModel",
            "_view_count": null,
            "_view_module": "@jupyter-widgets/base",
            "_view_module_version": "1.2.0",
            "_view_name": "LayoutView",
            "align_content": null,
            "align_items": null,
            "align_self": null,
            "border": null,
            "bottom": null,
            "display": null,
            "flex": null,
            "flex_flow": null,
            "grid_area": null,
            "grid_auto_columns": null,
            "grid_auto_flow": null,
            "grid_auto_rows": null,
            "grid_column": null,
            "grid_gap": null,
            "grid_row": null,
            "grid_template_areas": null,
            "grid_template_columns": null,
            "grid_template_rows": null,
            "height": null,
            "justify_content": null,
            "justify_items": null,
            "left": null,
            "margin": null,
            "max_height": null,
            "max_width": null,
            "min_height": null,
            "min_width": null,
            "object_fit": null,
            "object_position": null,
            "order": null,
            "overflow": null,
            "overflow_x": null,
            "overflow_y": null,
            "padding": null,
            "right": null,
            "top": null,
            "visibility": null,
            "width": null
          }
        },
        "41e919a6278c4c2d8cffe4c734f53099": {
          "model_module": "@jupyter-widgets/controls",
          "model_name": "DescriptionStyleModel",
          "model_module_version": "1.5.0",
          "state": {
            "_model_module": "@jupyter-widgets/controls",
            "_model_module_version": "1.5.0",
            "_model_name": "DescriptionStyleModel",
            "_view_count": null,
            "_view_module": "@jupyter-widgets/base",
            "_view_module_version": "1.2.0",
            "_view_name": "StyleView",
            "description_width": ""
          }
        },
        "07ed2777364d4c71bc330755b47a2851": {
          "model_module": "@jupyter-widgets/base",
          "model_name": "LayoutModel",
          "model_module_version": "1.2.0",
          "state": {
            "_model_module": "@jupyter-widgets/base",
            "_model_module_version": "1.2.0",
            "_model_name": "LayoutModel",
            "_view_count": null,
            "_view_module": "@jupyter-widgets/base",
            "_view_module_version": "1.2.0",
            "_view_name": "LayoutView",
            "align_content": null,
            "align_items": null,
            "align_self": null,
            "border": null,
            "bottom": null,
            "display": null,
            "flex": null,
            "flex_flow": null,
            "grid_area": null,
            "grid_auto_columns": null,
            "grid_auto_flow": null,
            "grid_auto_rows": null,
            "grid_column": null,
            "grid_gap": null,
            "grid_row": null,
            "grid_template_areas": null,
            "grid_template_columns": null,
            "grid_template_rows": null,
            "height": null,
            "justify_content": null,
            "justify_items": null,
            "left": null,
            "margin": null,
            "max_height": null,
            "max_width": null,
            "min_height": null,
            "min_width": null,
            "object_fit": null,
            "object_position": null,
            "order": null,
            "overflow": null,
            "overflow_x": null,
            "overflow_y": null,
            "padding": null,
            "right": null,
            "top": null,
            "visibility": null,
            "width": null
          }
        },
        "162f94fe40ac459ea4a8791a80c3eda5": {
          "model_module": "@jupyter-widgets/controls",
          "model_name": "ProgressStyleModel",
          "model_module_version": "1.5.0",
          "state": {
            "_model_module": "@jupyter-widgets/controls",
            "_model_module_version": "1.5.0",
            "_model_name": "ProgressStyleModel",
            "_view_count": null,
            "_view_module": "@jupyter-widgets/base",
            "_view_module_version": "1.2.0",
            "_view_name": "StyleView",
            "bar_color": null,
            "description_width": ""
          }
        },
        "ddcbe79de7294c57837d1ad69033a8f9": {
          "model_module": "@jupyter-widgets/base",
          "model_name": "LayoutModel",
          "model_module_version": "1.2.0",
          "state": {
            "_model_module": "@jupyter-widgets/base",
            "_model_module_version": "1.2.0",
            "_model_name": "LayoutModel",
            "_view_count": null,
            "_view_module": "@jupyter-widgets/base",
            "_view_module_version": "1.2.0",
            "_view_name": "LayoutView",
            "align_content": null,
            "align_items": null,
            "align_self": null,
            "border": null,
            "bottom": null,
            "display": null,
            "flex": null,
            "flex_flow": null,
            "grid_area": null,
            "grid_auto_columns": null,
            "grid_auto_flow": null,
            "grid_auto_rows": null,
            "grid_column": null,
            "grid_gap": null,
            "grid_row": null,
            "grid_template_areas": null,
            "grid_template_columns": null,
            "grid_template_rows": null,
            "height": null,
            "justify_content": null,
            "justify_items": null,
            "left": null,
            "margin": null,
            "max_height": null,
            "max_width": null,
            "min_height": null,
            "min_width": null,
            "object_fit": null,
            "object_position": null,
            "order": null,
            "overflow": null,
            "overflow_x": null,
            "overflow_y": null,
            "padding": null,
            "right": null,
            "top": null,
            "visibility": null,
            "width": null
          }
        },
        "2f4026632b0b4299a61f5b805d39d2ca": {
          "model_module": "@jupyter-widgets/controls",
          "model_name": "DescriptionStyleModel",
          "model_module_version": "1.5.0",
          "state": {
            "_model_module": "@jupyter-widgets/controls",
            "_model_module_version": "1.5.0",
            "_model_name": "DescriptionStyleModel",
            "_view_count": null,
            "_view_module": "@jupyter-widgets/base",
            "_view_module_version": "1.2.0",
            "_view_name": "StyleView",
            "description_width": ""
          }
        }
      }
    }
  },
  "cells": [
    {
      "cell_type": "markdown",
      "metadata": {
        "id": "view-in-github",
        "colab_type": "text"
      },
      "source": [
        "<a href=\"https://colab.research.google.com/github/Orenjonas/natural_language_processing_with_disaster_tweets/blob/main/NLP_disaster_tweets_using_torch_RoBERTa.ipynb\" target=\"_parent\"><img src=\"https://colab.research.google.com/assets/colab-badge.svg\" alt=\"Open In Colab\"/></a>"
      ]
    },
    {
      "cell_type": "markdown",
      "metadata": {
        "id": "zmMCyeL-6aB6"
      },
      "source": [
        "# Introduction\n",
        "Using a RoBERTa model pretrained on twitter data for classifying tweets as relating to real disasters or not.\n",
        "\n",
        "Model description can be found [here](https://huggingface.co/cardiffnlp/twitter-roberta-base)\n",
        "\n",
        "TODO:\n",
        "- More detailed text cleaning.\n",
        "- Inspect mislassified [example](https://colab.research.google.com/github/markwest1972/LSTM-Example-Google-Colaboratory/blob/master/LSTM_IMDB_Sentiment_Example.ipynb#scrollTo=rpCS2-jFH1KY)"
      ]
    },
    {
      "cell_type": "markdown",
      "metadata": {
        "id": "Na3uS6rL4WEs"
      },
      "source": [
        "# Import data\n",
        "## Mount google drive to notebook"
      ]
    },
    {
      "cell_type": "code",
      "metadata": {
        "colab": {
          "base_uri": "https://localhost:8080/"
        },
        "id": "sHapGBU9zzR8",
        "outputId": "a6ac032b-44f1-4089-8ea9-3f458d1d4db1"
      },
      "source": [
        "from google.colab import drive\n",
        "drive.mount('/gdrive')"
      ],
      "execution_count": null,
      "outputs": [
        {
          "name": "stdout",
          "output_type": "stream",
          "text": [
            "Mounted at /gdrive\n"
          ]
        }
      ]
    },
    {
      "cell_type": "code",
      "metadata": {
        "colab": {
          "base_uri": "https://localhost:8080/"
        },
        "id": "MqExrK_452Wa",
        "outputId": "c6525c5a-3862-445a-8884-09ba87f434af"
      },
      "source": [
        "import os\n",
        "for dirname, _, filenames in os.walk('/gdrive/My Drive/input'):\n",
        "    for filename in filenames:\n",
        "        print(os.path.join(dirname, filename))"
      ],
      "execution_count": null,
      "outputs": [
        {
          "name": "stdout",
          "output_type": "stream",
          "text": [
            "/gdrive/My Drive/input/glove.twitter.27B.100d.txt\n",
            "/gdrive/My Drive/input/glove.twitter.27B.25d.txt\n",
            "/gdrive/My Drive/input/glove.twitter.27B.50d.txt\n",
            "/gdrive/My Drive/input/glove.twitter.27B.zip\n",
            "/gdrive/My Drive/input/nlp-getting-started/test.csv\n",
            "/gdrive/My Drive/input/nlp-getting-started/sample_submission.csv\n",
            "/gdrive/My Drive/input/nlp-getting-started/train.csv\n"
          ]
        }
      ]
    },
    {
      "cell_type": "code",
      "metadata": {
        "id": "g284Y0pFDzUr"
      },
      "source": [
        "!pip install datasets\n",
        "from datasets import load_dataset\n",
        "\n",
        "# raw_dataset = load_dataset('csv', data_files='/gdrive/My Drive/input/nlp-getting-started/train.csv')\n",
        "# raw_competition_test_dataset = load_dataset('csv', data_files='/gdrive/My Drive/input/nlp-getting-started/test.csv')\n"
      ],
      "execution_count": null,
      "outputs": []
    },
    {
      "cell_type": "code",
      "metadata": {
        "id": "HWPd1WLqkWnE"
      },
      "source": [
        "import pandas as pd\n",
        "import numpy as np\n",
        "\n",
        "# raw_dataset = pd.read_csv('/gdrive/My Drive/input/nlp-getting-started/train.csv')"
      ],
      "execution_count": null,
      "outputs": []
    },
    {
      "cell_type": "code",
      "metadata": {
        "id": "B_sih_NZkhud"
      },
      "source": [
        "raw_dataset.drop_duplicates(subset=['text'], inplace=True)"
      ],
      "execution_count": null,
      "outputs": []
    },
    {
      "cell_type": "code",
      "metadata": {
        "id": "v7XpybH_tozZ"
      },
      "source": [
        "!sudo apt-get install enchant\n",
        "!pip install pyenchant"
      ],
      "execution_count": null,
      "outputs": []
    },
    {
      "cell_type": "markdown",
      "metadata": {
        "id": "0no1Vwk-z3aQ"
      },
      "source": [
        "# Clean data"
      ]
    },
    {
      "cell_type": "markdown",
      "metadata": {
        "id": "PS2GQ82luBx7"
      },
      "source": [
        ""
      ]
    },
    {
      "cell_type": "code",
      "metadata": {
        "id": "rsxE2VH-k8Ce"
      },
      "source": [
        "\n",
        "def clean_tweets(df):\n",
        "    from itertools import combinations\n",
        "    import re\n",
        "\n",
        "    def sub(pattern, output, string, whole_word=False):\n",
        "        token = output\n",
        "        if whole_word:\n",
        "            pattern = r'(\\s|^)' + pattern + r'(\\s|$)'\n",
        "\n",
        "        if isinstance(output, str):\n",
        "            token = ' ' + output + ' '\n",
        "        else:\n",
        "            token = lambda match: ' ' + output(match) + ' '\n",
        "\n",
        "        return re.sub(pattern, token, string)\n",
        "\n",
        "\n",
        "    def hashtag(token):\n",
        "        \"\"\" Replace hashtag `#` with `<hashtag>` and split following joined words.\"\"\"\n",
        "        token = token.group('tag')\n",
        "        if token != token.upper():\n",
        "            token = ' '.join(re.findall('[a-zA-Z][^A-Z]*', token))\n",
        "\n",
        "        return '<hashtag> ' + token\n",
        "\n",
        "    def punc_repeat(token):\n",
        "        return token.group(0)[0] + \" <repeat>\"\n",
        "\n",
        "    def punc_separate(token):\n",
        "        return token.group()\n",
        "\n",
        "    def number(token):\n",
        "        return token.group() + ' <number>';\n",
        "\n",
        "    def word_end_repeat(token):\n",
        "        return token.group(1) + token.group(2) + ' <elong>'\n",
        "    \n",
        "    def allcaps(token):\n",
        "        return token.group() + ' <allcaps>'\n",
        "\n",
        "    def clean_repeated_letters(tweet: str):\n",
        "        \"\"\"\n",
        "        Splits a tweet into words, finds repeated letters in the word and\n",
        "        removes combinations of the repeated letters until the word is matched by a key in\n",
        "        the english dicitonary\n",
        "        \"\"\"\n",
        "\n",
        "        # English dictionary\n",
        "        import enchant\n",
        "        d = enchant.Dict(\"en_US\")\n",
        "\n",
        "        cleaned_tweet = []\n",
        "\n",
        "        for word_i in tweet.split():\n",
        "            word_found = False\n",
        "\n",
        "            # Check that word is in the english library\n",
        "            if d.check(word_i):\n",
        "                cleaned_tweet.append(word_i)\n",
        "                continue\n",
        "\n",
        "            matches = re.findall(r\"\"\"(\\S*?)    # 1: Optional preceeding letters\n",
        "                                     (\\w)      # 2: A letter that might be repeated\n",
        "                                     (\\2{1,})  # 3: Repetead instances of the preceeding letter (group 2)\n",
        "                                     (\\S*?)    # 4: Optional trailing letters\"\"\",\n",
        "                                 word_i,\n",
        "                                 flags=re.X)  # Verbose regex, for commenting\n",
        "                                 \n",
        "            repeated_letters = [match[2] for match in matches]\n",
        "                    \n",
        "            # Loop over all combinations of repeated letters\n",
        "            for i in range(len(repeated_letters), 0, -1):  # i decides length of combination\n",
        "                if word_found:\n",
        "                    continue\n",
        "                    \n",
        "                for combination in combinations(repeated_letters, r = i):\n",
        "                    if word_found:\n",
        "                        continue\n",
        "                        \n",
        "                    tword = word_i \n",
        "                    \n",
        "                        \n",
        "                    for letters in combination:\n",
        "                        tword = re.sub(letters, \"\", tword, count=1)\n",
        "                                        \n",
        "                        # Word in the english dictionary?\n",
        "                        if d.check(tword):\n",
        "                            # Keep the word and stop searching\n",
        "                            word_found = True\n",
        "                            tword = tword + \" <elong>\"\n",
        "                            continue  \n",
        "            if not word_found:\n",
        "                # No match, we simply keep the word\n",
        "                tword = word_i\n",
        "                \n",
        "            cleaned_tweet.append(tword)\n",
        "            \n",
        "        return \" \".join(cleaned_tweet)\n",
        "\n",
        "\n",
        "\n",
        "    eyes        = r\"[8:=;]\"\n",
        "    nose        = r\"['`\\-\\^]?\"\n",
        "    sad_front   = r\"[(\\[/\\\\]+\"\n",
        "    sad_back    = r\"[)\\]/\\\\]+\"\n",
        "    smile_front = r\"[)\\]]+\"\n",
        "    smile_back  = r\"[(\\[]+\"\n",
        "    lol_front   = r\"[DbpP]+\"\n",
        "    lol_back    = r\"[d]+\"\n",
        "    neutral     = r\"[|]+\"\n",
        "    sadface     = eyes + nose + sad_front   + '|' + sad_back   + nose + eyes\n",
        "    smile       = eyes + nose + smile_front + '|' + smile_back + nose + eyes\n",
        "    lolface     = eyes + nose + lol_front   + '|' + lol_back   + nose + eyes\n",
        "    neutralface = eyes + nose + neutral     + '|' + neutral    + nose + eyes\n",
        "    punctuation = r\"\"\"[ '!\"#$%&'()+,/:;=?@_`{|}~\\*\\-\\.\\^\\\\\\[\\]]+\"\"\" ## < and > omitted to avoid messing up tokens\n",
        "\n",
        "    # Remove contractions\n",
        "    contractions_dict = { \"ain't\": \"are not\",\"'s\":\" is\",\"aren't\": \"are not\",\n",
        "                        \"can't\": \"cannot\",\"can't've\": \"cannot have\",\n",
        "                        \"'cause\": \"because\",\"could've\": \"could have\",\"couldn't\": \"could not\",\n",
        "                        \"couldn't've\": \"could not have\", \"didn't\": \"did not\",\"doesn't\": \"does not\",\n",
        "                        \"don't\": \"do not\",\"hadn't\": \"had not\",\"hadn't've\": \"had not have\",\n",
        "                        \"hasn't\": \"has not\",\"haven't\": \"have not\",\"he'd\": \"he would\",\n",
        "                        \"he'd've\": \"he would have\",\"he'll\": \"he will\", \"he'll've\": \"he will have\",\n",
        "                        \"how'd\": \"how did\",\"how'd'y\": \"how do you\",\"how'll\": \"how will\",\n",
        "                        \"i'd\": \"i would\", \"i'd've\": \"i would have\",\"i'll\": \"i will\",\n",
        "                        \"i'll've\": \"i will have\",\"i'm\": \"i am\",\"i've\": \"i have\", \"isn't\": \"is not\",\n",
        "                        \"it'd\": \"it would\",\"it'd've\": \"it would have\",\"it'll\": \"it will\",\n",
        "                        \"it'll've\": \"it will have\", \"let's\": \"let us\",\"ma'am\": \"madam\",\n",
        "                        \"mayn't\": \"may not\",\"might've\": \"might have\",\"mightn't\": \"might not\", \n",
        "                        \"mightn't've\": \"might not have\",\"must've\": \"must have\",\"mustn't\": \"must not\",\n",
        "                        \"mustn't've\": \"must not have\", \"needn't\": \"need not\",\n",
        "                        \"needn't've\": \"need not have\",\"o'clock\": \"of the clock\",\"oughtn't\": \"ought not\",\n",
        "                        \"oughtn't've\": \"ought not have\",\"shan't\": \"shall not\",\"sha'n't\": \"shall not\",\n",
        "                        \"shan't've\": \"shall not have\",\"she'd\": \"she would\",\"she'd've\": \"she would have\",\n",
        "                        \"she'll\": \"she will\", \"she'll've\": \"she will have\",\"should've\": \"should have\",\n",
        "                        \"shouldn't\": \"should not\", \"shouldn't've\": \"should not have\",\"so've\": \"so have\",\n",
        "                        \"that'd\": \"that would\",\"that'd've\": \"that would have\", \"there'd\": \"there would\",\n",
        "                        \"there'd've\": \"there would have\", \"they'd\": \"they would\",\n",
        "                        \"they'd've\": \"they would have\",\"they'll\": \"they will\",\n",
        "                        \"they'll've\": \"they will have\", \"they're\": \"they are\",\"they've\": \"they have\",\n",
        "                        \"to've\": \"to have\",\"wasn't\": \"was not\",\"we'd\": \"we would\",\n",
        "                        \"we'd've\": \"we would have\",\"we'll\": \"we will\",\"we'll've\": \"we will have\",\n",
        "                        \"we're\": \"we are\",\"we've\": \"we have\", \"weren't\": \"were not\",\"what'll\": \"what will\",\n",
        "                        \"what'll've\": \"what will have\",\"what're\": \"what are\", \"what've\": \"what have\",\n",
        "                        \"when've\": \"when have\",\"where'd\": \"where did\", \"where've\": \"where have\",\n",
        "                        \"who'll\": \"who will\",\"who'll've\": \"who will have\",\"who've\": \"who have\",\n",
        "                        \"why've\": \"why have\",\"will've\": \"will have\",\"won't\": \"will not\",\n",
        "                        \"won't've\": \"will not have\", \"would've\": \"would have\",\"wouldn't\": \"would not\",\n",
        "                        \"wouldn't've\": \"would not have\",\"y'all\": \"you all\", \"y'all'd\": \"you all would\",\n",
        "                        \"y'all'd've\": \"you all would have\",\"y'all're\": \"you all are\",\n",
        "                        \"y'all've\": \"you all have\", \"you'd\": \"you would\",\"you'd've\": \"you would have\",\n",
        "                        \"you'll\": \"you will\",\"you'll've\": \"you will have\", \"you're\": \"you are\",\n",
        "                        \"you've\": \"you have\"}\n",
        "    \n",
        "    # Regular expression for finding contractions\n",
        "    #    adding positive lookbehind for \"'s\" in the regex to make sure a letter is preceeding\n",
        "    contractions_re=re.compile('(%s)' % '|'.join(contractions_dict.keys()).lower().replace(\"|'s\", \"|(?<=[a-zA-Z])'s\"))\n",
        "\n",
        "    def expand_contractions(text,contractions_dict=contractions_dict):\n",
        "        def replace(match):\n",
        "            return contractions_dict[match.group(1)]\n",
        "        return contractions_re.sub(replace, text)\n",
        "\n",
        "\n",
        "    for i in range(df.shape[0]):\n",
        "        df.loc[i,'text'] = sub(r'[\\s]+',                             '  ',            df.loc[i,'text']) # ensure 2 spaces between everything\n",
        "        df.loc[i,'text'] = sub(r'(?:(?:https?|ftp)://|www\\.)[^\\s]+', 'http',         df.loc[i,'text'], True)\n",
        "        df.loc[i,'text'] = sub(r'@\\w+',                              '@user',        df.loc[i,'text'], True)\n",
        "        df.loc[i,'text'] = sub(r'#(?P<tag>\\w+)',                     hashtag,         df.loc[i,'text'], True)\n",
        "        df.loc[i,'text'] = sub(sadface,                              '<sadface>',     df.loc[i,'text'], True)\n",
        "        df.loc[i,'text'] = sub(smile,                                '<smile>',       df.loc[i,'text'], True)\n",
        "        df.loc[i,'text'] = sub(lolface,                              '<lolface>',     df.loc[i,'text'], True)\n",
        "        df.loc[i,'text'] = sub(neutralface,                          '<neutralface>', df.loc[i,'text'], True)\n",
        "        df.loc[i,'text'] = sub(r'(?:<3+)+',                          '<heart>',       df.loc[i,'text'], True)\n",
        "        df.loc[i,'text'] = sub(r'\\b[A-Z]+\\b',                        allcaps,         df.loc[i,'text'], True) \n",
        "        df.loc[i,'text'] =                                           df.loc[i,'text'].lower()\n",
        "        df.loc[i,'text'] =                                           expand_contractions(df.loc[i, 'text'])\n",
        "        df.loc[i,'text'] = sub(r'[-+]?[.\\d]*[\\d]+[:,.\\d]*',          number,          df.loc[i,'text'], True)\n",
        "        df.loc[i,'text'] = sub(punctuation,                          punc_separate,   df.loc[i,'text'])\n",
        "        df.loc[i,'text'] = sub(r'([!?.])\\1+',                        punc_repeat,     df.loc[i,'text'])\n",
        "        \n",
        "        df.loc[i,'text'] = clean_repeated_letters(df.loc[i,'text'])\n",
        "\n",
        "    return df"
      ],
      "execution_count": null,
      "outputs": []
    },
    {
      "cell_type": "code",
      "metadata": {
        "id": "RuVlRaw0nZDs"
      },
      "source": [
        "cleaned_data = clean_tweets(df = raw_dataset)"
      ],
      "execution_count": null,
      "outputs": []
    },
    {
      "cell_type": "code",
      "metadata": {
        "id": "rHk16_Vk0x5n"
      },
      "source": [
        "%%capture\n",
        "!pip install datasets\n",
        "from datasets import Dataset\n",
        "\n",
        "cleaned_data = Dataset.from_pandas(cleaned_data)"
      ],
      "execution_count": null,
      "outputs": []
    },
    {
      "cell_type": "code",
      "metadata": {
        "colab": {
          "base_uri": "https://localhost:8080/",
          "height": 35
        },
        "id": "l6sxam2j3nB8",
        "outputId": "ed883aae-639f-4576-a770-b269158babfb"
      },
      "source": [
        "# Inspect cleaned tweet text\n",
        "\n",
        "cleaned_data['text'][2]"
      ],
      "execution_count": null,
      "outputs": [
        {
          "data": {
            "application/vnd.google.colaboratory.intrinsic+json": {
              "type": "string"
            },
            "text/plain": [
              "\"all residents asked to ' shelter in place ' are being notified by officers . no other evacuation or shelter in place orders are expected\""
            ]
          },
          "execution_count": 51,
          "metadata": {},
          "output_type": "execute_result"
        }
      ]
    },
    {
      "cell_type": "markdown",
      "metadata": {
        "id": "L50k4aZ45T2o"
      },
      "source": [
        "# Tokenize data"
      ]
    },
    {
      "cell_type": "code",
      "metadata": {
        "collapsed": true,
        "id": "MWLH8UoI5VYG"
      },
      "source": [
        "%%capture\n",
        "\n",
        "!pip install transformers\n",
        "\n",
        "from transformers import pipeline, AutoTokenizer\n",
        "\n",
        "MODEL = \"cardiffnlp/twitter-roberta-base\"\n",
        "\n",
        "tokenizer = AutoTokenizer.from_pretrained(MODEL)"
      ],
      "execution_count": null,
      "outputs": []
    },
    {
      "cell_type": "code",
      "metadata": {
        "colab": {
          "base_uri": "https://localhost:8080/",
          "height": 66,
          "referenced_widgets": [
            "b0c7f8c0ee934df58b8cff7fad42841e",
            "1e121406b14449538ac6cc5172130e3d",
            "379343f32027439f804a6ff2cc9c68f9",
            "20fe96306c374241a09693935193e8ff",
            "fd4c1e704ca2477d91f2987084112a65",
            "12a8ca6538894f239e521f1c08c238c4",
            "57adce62ab54415889b5b325c9663235",
            "603078eebc364790a352460a64738e0b",
            "68205ef36a364bbe9f2a7d0cc58705db",
            "694841f4b400468b8c7a94fe3654914c",
            "acd566e8dbdd476c892187d8fab5bf66"
          ]
        },
        "collapsed": true,
        "id": "nSijJgTQGUU3",
        "outputId": "85e56307-0519-4c52-efc0-c922b4861115"
      },
      "source": [
        "def tokenize_function(examples):\n",
        "    return tokenizer(examples[\"text\"], padding=True, truncation=True)\n",
        "\n",
        "tokenized_data = cleaned_data.map(tokenize_function, batched=True)\n",
        "\n",
        "# # TODO: adapt code\n",
        "# MAX_LEN = \n",
        "# tokenized_train_data = processed_train_data.map(tokenize_function, batched=True)\n",
        "# tokenized_test_data = processed_test_data.map(tokenize_function, batched=True)\n",
        "\n"
      ],
      "execution_count": null,
      "outputs": [
        {
          "data": {
            "application/vnd.jupyter.widget-view+json": {
              "model_id": "b0c7f8c0ee934df58b8cff7fad42841e",
              "version_major": 2,
              "version_minor": 0
            },
            "text/plain": [
              "  0%|          | 0/8 [00:00<?, ?ba/s]"
            ]
          },
          "metadata": {},
          "output_type": "display_data"
        },
        {
          "name": "stderr",
          "output_type": "stream",
          "text": [
            "Asking to truncate to max_length but no maximum length is provided and the model has no predefined maximum length. Default to no truncation.\n"
          ]
        }
      ]
    },
    {
      "cell_type": "code",
      "metadata": {
        "id": "8GOVmpvzPCS0"
      },
      "source": [
        "# Split training data into a dictionary containing a test and training (validation) set\n",
        "\n",
        "tokenized_datasets = tokenized_data.train_test_split(test_size=0.2)"
      ],
      "execution_count": null,
      "outputs": []
    },
    {
      "cell_type": "code",
      "metadata": {
        "id": "kBVAGq3_MV-D"
      },
      "source": [
        "small_train_dataset = tokenized_datasets['train'].shuffle(seed=42).select(range(1000))\n",
        "small_eval_dataset =  tokenized_datasets['test'].shuffle(seed=42).select(range(1000))\n",
        "\n",
        "# full_train_dataset =  tokenized_datasets[\"train\"]\n",
        "# full_eval_dataset =   tokenized_datasets[\"test\"]"
      ],
      "execution_count": null,
      "outputs": []
    },
    {
      "cell_type": "markdown",
      "metadata": {
        "id": "jLYoWE4TV3tF"
      },
      "source": [
        "# Model"
      ]
    },
    {
      "cell_type": "code",
      "metadata": {
        "id": "_-2udkMVXiWy"
      },
      "source": [
        "import tensorflow as tf\n",
        "\n",
        "train_tf_dataset = small_train_dataset.remove_columns([\"text\"]).with_format(\"tensorflow\")\n",
        "eval_tf_dataset = small_eval_dataset.remove_columns([\"text\"]).with_format(\"tensorflow\")\n"
      ],
      "execution_count": null,
      "outputs": []
    },
    {
      "cell_type": "code",
      "metadata": {
        "id": "2S-1I0zy5TkN"
      },
      "source": [
        "train_tf_dataset = small_train_dataset.remove_columns([\"text\"]).with_format(\"tensorflow\")\n",
        "eval_tf_dataset  = small_eval_dataset.remove_columns([\"text\"]).with_format(\"tensorflow\")"
      ],
      "execution_count": null,
      "outputs": []
    },
    {
      "cell_type": "code",
      "metadata": {
        "colab": {
          "base_uri": "https://localhost:8080/"
        },
        "id": "BE3RNglz5wzL",
        "outputId": "60cbc4b6-c1a9-4c99-a228-3de4453145cb"
      },
      "source": [
        "\n",
        "def sliceDataset_to_batchDataset(dataset):\n",
        "    features = {x: dataset[x].to_tensor() for x in tokenizer.model_input_names}\n",
        "    dataset = tf.data.Dataset.from_tensor_slices((features, dataset[\"target\"]))\n",
        "    return dataset.shuffle(len(dataset)).batch(8)\n",
        "\n",
        "\n",
        "train_tf_dataset = sliceDataset_to_batchDataset(train_tf_dataset)\n",
        "eval_tf_dataset = sliceDataset_to_batchDataset(eval_tf_dataset)"
      ],
      "execution_count": null,
      "outputs": [
        {
          "name": "stderr",
          "output_type": "stream",
          "text": [
            "/usr/local/lib/python3.7/dist-packages/datasets/formatting/formatting.py:167: VisibleDeprecationWarning: Creating an ndarray from ragged nested sequences (which is a list-or-tuple of lists-or-tuples-or ndarrays with different lengths or shapes) is deprecated. If you meant to do this, you must specify 'dtype=object' when creating the ndarray\n",
            "  return np.array(array, copy=False, **self.np_array_kwargs)\n"
          ]
        },
        {
          "name": "stdout",
          "output_type": "stream",
          "text": [
            "1000\n",
            "1000\n"
          ]
        }
      ]
    },
    {
      "cell_type": "code",
      "metadata": {
        "colab": {
          "base_uri": "https://localhost:8080/",
          "height": 137,
          "referenced_widgets": [
            "028081518ed54172baf0365ec89a174a",
            "9bc3a80caed045d7b3ff81440de3cb71",
            "08532d5c74924e6f94db31369eaa03bb",
            "7be654de280243a687ea5663182645f9",
            "299ab3ef268942d288c51c45bdae67ab",
            "6dd671f3c1e4432484fa55bc1714566c",
            "41e919a6278c4c2d8cffe4c734f53099",
            "07ed2777364d4c71bc330755b47a2851",
            "162f94fe40ac459ea4a8791a80c3eda5",
            "ddcbe79de7294c57837d1ad69033a8f9",
            "2f4026632b0b4299a61f5b805d39d2ca"
          ]
        },
        "id": "UKuXsIxUV4u3",
        "outputId": "e0d19ca9-8c30-4874-c3a6-dfc614ad20c7"
      },
      "source": [
        "from transformers import TFAutoModelForSequenceClassification\n",
        "\n",
        "# Initiate a tensorflow model from the pretrained model. Will throw a warning about some layers not bein initialized\n",
        "model = TFAutoModelForSequenceClassification.from_pretrained(MODEL, num_labels=2)"
      ],
      "execution_count": null,
      "outputs": [
        {
          "data": {
            "application/vnd.jupyter.widget-view+json": {
              "model_id": "028081518ed54172baf0365ec89a174a",
              "version_major": 2,
              "version_minor": 0
            },
            "text/plain": [
              "Downloading:   0%|          | 0.00/499M [00:00<?, ?B/s]"
            ]
          },
          "metadata": {},
          "output_type": "display_data"
        },
        {
          "name": "stderr",
          "output_type": "stream",
          "text": [
            "All model checkpoint layers were used when initializing TFRobertaForSequenceClassification.\n",
            "\n",
            "Some layers of TFRobertaForSequenceClassification were not initialized from the model checkpoint at cardiffnlp/twitter-roberta-base and are newly initialized: ['classifier']\n",
            "You should probably TRAIN this model on a down-stream task to be able to use it for predictions and inference.\n"
          ]
        }
      ]
    },
    {
      "cell_type": "code",
      "metadata": {
        "colab": {
          "base_uri": "https://localhost:8080/"
        },
        "id": "y1cthVJTZS9X",
        "outputId": "e64ea407-b6ca-4bde-98ba-33c7924fe361"
      },
      "source": [
        "model.compile(\n",
        "    optimizer=tf.keras.optimizers.Adam(learning_rate=1e-6),\n",
        "    loss=tf.keras.losses.SparseCategoricalCrossentropy(from_logits=True),\n",
        "    metrics=tf.metrics.SparseCategoricalAccuracy(),\n",
        ")\n",
        "\n",
        "model.summary()"
      ],
      "execution_count": null,
      "outputs": [
        {
          "name": "stdout",
          "output_type": "stream",
          "text": [
            "Model: \"tf_roberta_for_sequence_classification\"\n",
            "_________________________________________________________________\n",
            "Layer (type)                 Output Shape              Param #   \n",
            "=================================================================\n",
            "roberta (TFRobertaMainLayer) multiple                  124055040 \n",
            "_________________________________________________________________\n",
            "classifier (TFRobertaClassif multiple                  592130    \n",
            "=================================================================\n",
            "Total params: 124,647,170\n",
            "Trainable params: 124,647,170\n",
            "Non-trainable params: 0\n",
            "_________________________________________________________________\n"
          ]
        }
      ]
    },
    {
      "cell_type": "code",
      "metadata": {
        "colab": {
          "background_save": true,
          "base_uri": "https://localhost:8080/"
        },
        "id": "_ZjrVjM5hAM6",
        "outputId": "84428e50-14ae-416f-f265-61308203a66c"
      },
      "source": [
        "\n",
        "history = model.fit(train_tf_dataset, validation_data=eval_tf_dataset, epochs=3)"
      ],
      "execution_count": null,
      "outputs": [
        {
          "name": "stdout",
          "output_type": "stream",
          "text": [
            "Epoch 1/3\n",
            "125/125 [==============================] - 1784s 14s/step - loss: 0.6922 - sparse_categorical_accuracy: 0.5180 - val_loss: 0.6864 - val_sparse_categorical_accuracy: 0.6270\n",
            "Epoch 2/3\n",
            "125/125 [==============================] - 1753s 14s/step - loss: 0.6818 - sparse_categorical_accuracy: 0.5880 - val_loss: 0.6752 - val_sparse_categorical_accuracy: 0.5840\n"
          ]
        }
      ]
    },
    {
      "cell_type": "markdown",
      "metadata": {
        "id": "fOWSnrmZmhpm"
      },
      "source": [
        "## Model is overfitting\n",
        "- Try more detailed cleaning.\n",
        "- Try another pretrained model, e.g roberta-base."
      ]
    },
    {
      "cell_type": "markdown",
      "metadata": {
        "id": "gaLUs_bq89Is"
      },
      "source": [
        "## Something to try:"
      ]
    },
    {
      "cell_type": "code",
      "metadata": {
        "id": "Ib5L1cjY8yAF"
      },
      "source": [
        "# Add dense layer after transformer model (RoBERTa)\n",
        "\n",
        "\n",
        "# Import the needed model(Bert, Roberta or DistilBert) with output_hidden_states=True\n",
        "transformer_model = TFBertForSequenceClassification.from_pretrained('bert-large-cased', output_hidden_states=True)\n",
        "\n",
        "input_ids = tf.keras.Input(shape=(128, ),dtype='int32')\n",
        "attention_mask = tf.keras.Input(shape=(128, ), dtype='int32')\n",
        "\n",
        "transformer = transformer_model([input_ids, attention_mask])    \n",
        "hidden_states = transformer[1] # get output_hidden_states\n",
        "\n",
        "hidden_states_size = 4 # count of the last states \n",
        "hiddes_states_ind = list(range(-hidden_states_size, 0, 1))\n",
        "\n",
        "selected_hiddes_states = tf.keras.layers.concatenate(tuple([hidden_states[i] for i in hiddes_states_ind]))\n",
        "\n",
        "# Now we can use selected_hiddes_states as we want\n",
        "output = tf.keras.layers.Dense(128, activation='relu')(selected_hiddes_states)\n",
        "output = tf.keras.layers.Dense(1, activation='sigmoid')(output)\n",
        "model = tf.keras.models.Model(inputs = [input_ids, attention_mask], outputs = output)\n",
        "model.compile(tf.keras.optimizers.Adam(lr=1e-4), loss='binary_crossentropy', metrics=['accuracy'])"
      ],
      "execution_count": null,
      "outputs": []
    }
  ]
}